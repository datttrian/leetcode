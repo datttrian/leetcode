{
 "cells": [
  {
   "cell_type": "markdown",
   "metadata": {},
   "source": [
    "# LeetCode"
   ]
  },
  {
   "cell_type": "markdown",
   "metadata": {},
   "source": [
    "## 217. Contains Duplicate\n",
    "\n",
    "Given an integer array `nums`, return `true` if any value appears **at\n",
    "least twice** in the array, and return `false` if every element is\n",
    "distinct.\n",
    "\n",
    "**Example 1:**\n",
    "\n",
    "    Input: nums = [1,2,3,1]\n",
    "    Output: true\n",
    "\n",
    "**Example 2:**\n",
    "\n",
    "    Input: nums = [1,2,3,4]\n",
    "    Output: false\n",
    "\n",
    "**Example 3:**\n",
    "\n",
    "    Input: nums = [1,1,1,3,3,4,3,2,4,2]\n",
    "    Output: true\n",
    "\n",
    "**Constraints:**\n",
    "\n",
    "- `1 <= nums.length <= 10`<sup>`5`</sup>\n",
    "- `-10`<sup>`9`</sup>`<= nums[i] <= 10`<sup>`9`</sup>"
   ]
  }
 ],
 "metadata": {
  "language_info": {
   "name": "python"
  }
 },
 "nbformat": 4,
 "nbformat_minor": 2
}
