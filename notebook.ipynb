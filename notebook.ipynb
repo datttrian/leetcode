{
 "cells": [
  {
   "cell_type": "markdown",
   "metadata": {},
   "source": [
    "# LeetCode"
   ]
  },
  {
   "cell_type": "markdown",
   "metadata": {},
   "source": [
    "## 217. Contains Duplicate\n",
    "\n",
    "Given an integer array `nums`, return `true` if any value appears **at\n",
    "least twice** in the array, and return `false` if every element is\n",
    "distinct.\n",
    "\n",
    "**Example 1:**\n",
    "\n",
    "    Input: nums = [1,2,3,1]\n",
    "    Output: true\n",
    "\n",
    "**Example 2:**\n",
    "\n",
    "    Input: nums = [1,2,3,4]\n",
    "    Output: false\n",
    "\n",
    "**Example 3:**\n",
    "\n",
    "    Input: nums = [1,1,1,3,3,4,3,2,4,2]\n",
    "    Output: true\n",
    "\n",
    "**Constraints:**\n",
    "\n",
    "- `1 <= nums.length <= 10`<sup>`5`</sup>\n",
    "- `-10`<sup>`9`</sup>`<= nums[i] <= 10`<sup>`9`</sup>"
   ]
  },
  {
   "cell_type": "markdown",
   "metadata": {},
   "source": [
    "### Brute Force - O(n^2), O(1)"
   ]
  },
  {
   "cell_type": "code",
   "execution_count": 165,
   "metadata": {},
   "outputs": [
    {
     "name": "stdout",
     "output_type": "stream",
     "text": [
      "True\n",
      "False\n",
      "True\n"
     ]
    }
   ],
   "source": [
    "class Solution:\n",
    "    def containsDuplicate(self, nums: list[int]) -> bool:\n",
    "        n = len(nums)\n",
    "        for i in range(n):\n",
    "            for j in range(i + 1, n):\n",
    "                if nums[i] == nums[j]:\n",
    "                    return True\n",
    "        return False\n",
    "\n",
    "\n",
    "solution = Solution()\n",
    "print(solution.containsDuplicate(nums=[1, 2, 3, 1]))\n",
    "print(solution.containsDuplicate(nums=[1, 2, 3, 4]))\n",
    "print(solution.containsDuplicate(nums=[1, 1, 1, 3, 3, 4, 3, 2, 4, 2]))"
   ]
  },
  {
   "cell_type": "markdown",
   "metadata": {},
   "source": [
    "### Sorting - O(n log n), O(1)"
   ]
  },
  {
   "cell_type": "code",
   "execution_count": 166,
   "metadata": {},
   "outputs": [
    {
     "name": "stdout",
     "output_type": "stream",
     "text": [
      "True\n",
      "False\n",
      "True\n"
     ]
    }
   ],
   "source": [
    "class Solution:\n",
    "    def containsDuplicate(self, nums: list[int]) -> bool:\n",
    "        nums.sort()\n",
    "        for i in range(1, len(nums)):\n",
    "            if nums[i] == nums[i - 1]:\n",
    "                return True\n",
    "        return False\n",
    "\n",
    "\n",
    "solution = Solution()\n",
    "print(solution.containsDuplicate(nums=[1, 2, 3, 1]))\n",
    "print(solution.containsDuplicate(nums=[1, 2, 3, 4]))\n",
    "print(solution.containsDuplicate(nums=[1, 1, 1, 3, 3, 4, 3, 2, 4, 2]))"
   ]
  },
  {
   "cell_type": "markdown",
   "metadata": {},
   "source": [
    "### Arrays & Hashing - O(n), O(n)"
   ]
  },
  {
   "cell_type": "code",
   "execution_count": 167,
   "metadata": {},
   "outputs": [
    {
     "name": "stdout",
     "output_type": "stream",
     "text": [
      "True\n",
      "False\n",
      "True\n"
     ]
    }
   ],
   "source": [
    "class Solution:\n",
    "    def containsDuplicate(self, nums: list[int]) -> bool:\n",
    "        nums_unique: set[int] = set()\n",
    "        for num in nums:\n",
    "            if num in nums_unique:\n",
    "                return True\n",
    "            nums_unique.add(num)\n",
    "        return False\n",
    "\n",
    "\n",
    "solution = Solution()\n",
    "print(solution.containsDuplicate(nums=[1, 2, 3, 1]))\n",
    "print(solution.containsDuplicate(nums=[1, 2, 3, 4]))\n",
    "print(solution.containsDuplicate(nums=[1, 1, 1, 3, 3, 4, 3, 2, 4, 2]))"
   ]
  },
  {
   "cell_type": "markdown",
   "metadata": {},
   "source": [
    "## 242. Valid Anagram\n",
    "\n",
    "Given two strings `s` and `t`, return `true` *if* `t` *is an anagram of*\n",
    "`s`*, and* `false` *otherwise*.\n",
    "\n",
    "An **Anagram** is a word or phrase formed by rearranging the letters of\n",
    "a different word or phrase, typically using all the original letters\n",
    "exactly once.\n",
    "\n",
    "**Example 1:**\n",
    "\n",
    "    Input: s = \"anagram\", t = \"nagaram\"\n",
    "    Output: true\n",
    "\n",
    "**Example 2:**\n",
    "\n",
    "    Input: s = \"rat\", t = \"car\"\n",
    "    Output: false\n",
    "\n",
    "**Constraints:**\n",
    "\n",
    "- `1 <= s.length, t.length <= 5 * 10`<sup>`4`</sup>\n",
    "- `s` and `t` consist of lowercase English letters.\n",
    "\n",
    "**Follow up:** What if the inputs contain Unicode characters? How would\n",
    "you adapt your solution to such a case?"
   ]
  },
  {
   "cell_type": "markdown",
   "metadata": {},
   "source": [
    "### Brute Force - O(n^2), O(1)"
   ]
  },
  {
   "cell_type": "code",
   "execution_count": 168,
   "metadata": {},
   "outputs": [
    {
     "name": "stdout",
     "output_type": "stream",
     "text": [
      "True\n",
      "False\n"
     ]
    }
   ],
   "source": [
    "class Solution:\n",
    "    def isAnagram(self, s: str, t: str) -> bool:\n",
    "        if len(s) != len(t):\n",
    "            return False\n",
    "\n",
    "        for char in s:\n",
    "            is_matched = False\n",
    "\n",
    "            for i in range(len(t)):\n",
    "                if t[i] == char:\n",
    "                    t = t[:i] + t[i + 1 :]\n",
    "                    is_matched = True\n",
    "                    break\n",
    "\n",
    "            if not is_matched:\n",
    "                return False\n",
    "\n",
    "        return True\n",
    "\n",
    "\n",
    "solution = Solution()\n",
    "print(solution.isAnagram(s=\"anagram\", t=\"nagaram\"))\n",
    "print(solution.isAnagram(s=\"rat\", t=\"car\"))"
   ]
  },
  {
   "cell_type": "markdown",
   "metadata": {},
   "source": [
    "### Sorting - O(n log n), O(n)"
   ]
  },
  {
   "cell_type": "code",
   "execution_count": 169,
   "metadata": {},
   "outputs": [
    {
     "name": "stdout",
     "output_type": "stream",
     "text": [
      "True\n",
      "False\n"
     ]
    }
   ],
   "source": [
    "class Solution:\n",
    "    def isAnagram(self, s: str, t: str) -> bool:\n",
    "        return sorted(s) == sorted(t)\n",
    "\n",
    "\n",
    "solution = Solution()\n",
    "print(solution.isAnagram(s=\"anagram\", t=\"nagaram\"))\n",
    "print(solution.isAnagram(s=\"rat\", t=\"car\"))"
   ]
  },
  {
   "cell_type": "markdown",
   "metadata": {},
   "source": [
    "### Arrays & Hashing - O(n), O(1)"
   ]
  },
  {
   "cell_type": "code",
   "execution_count": 170,
   "metadata": {},
   "outputs": [
    {
     "name": "stdout",
     "output_type": "stream",
     "text": [
      "True\n",
      "False\n"
     ]
    }
   ],
   "source": [
    "class Solution:\n",
    "    def isAnagram(self, s: str, t: str) -> bool:\n",
    "        if len(s) != len(t):\n",
    "            return False\n",
    "        \n",
    "        count_s: dict[str, int] = {}\n",
    "        count_t: dict[str, int] = {}\n",
    "        \n",
    "        for char in s:\n",
    "            if char in count_s:\n",
    "                count_s[char] += 1\n",
    "            else:\n",
    "                count_s[char] = 1\n",
    "        \n",
    "        for char in t:\n",
    "            if char in count_t:\n",
    "                count_t[char] += 1\n",
    "            else:\n",
    "                count_t[char] = 1\n",
    "        \n",
    "        for char in count_s:\n",
    "            if char not in count_t or count_s[char] != count_t[char]:\n",
    "                return False\n",
    "        \n",
    "        for char in count_t:\n",
    "            if char not in count_s:\n",
    "                return False\n",
    "        \n",
    "        return True\n",
    "\n",
    "\n",
    "solution = Solution()\n",
    "print(solution.isAnagram(s=\"anagram\", t=\"nagaram\"))\n",
    "print(solution.isAnagram(s=\"rat\", t=\"car\"))"
   ]
  },
  {
   "cell_type": "code",
   "execution_count": 171,
   "metadata": {},
   "outputs": [
    {
     "name": "stdout",
     "output_type": "stream",
     "text": [
      "True\n",
      "False\n"
     ]
    }
   ],
   "source": [
    "class Solution:\n",
    "    def isAnagram(self, s: str, t: str) -> bool:\n",
    "        if len(s) != len(t):\n",
    "            return False\n",
    "\n",
    "        count: dict[str, int] = {}\n",
    "\n",
    "        for char in s:\n",
    "            if char in count:\n",
    "                count[char] += 1\n",
    "            else:\n",
    "                count[char] = 1\n",
    "\n",
    "        for char in t:\n",
    "            if char in count:\n",
    "                count[char] -= 1\n",
    "            else:\n",
    "                return False\n",
    "\n",
    "        for char in count:\n",
    "            if count[char] != 0:\n",
    "                return False\n",
    "\n",
    "        return True\n",
    "\n",
    "\n",
    "solution = Solution()\n",
    "print(solution.isAnagram(s=\"anagram\", t=\"nagaram\"))\n",
    "print(solution.isAnagram(s=\"rat\", t=\"car\"))"
   ]
  },
  {
   "cell_type": "code",
   "execution_count": 172,
   "metadata": {},
   "outputs": [
    {
     "name": "stdout",
     "output_type": "stream",
     "text": [
      "True\n",
      "False\n"
     ]
    }
   ],
   "source": [
    "class Solution:\n",
    "    def isAnagram(self, s: str, t: str) -> bool:\n",
    "        if len(s) != len(t):\n",
    "            return False\n",
    "        \n",
    "        count: dict[str, int] = {}\n",
    "\n",
    "        for i in range(len(s)):\n",
    "            count[s[i]] = count.get(s[i], 0) + 1\n",
    "            count[t[i]] = count.get(t[i], 0) - 1\n",
    "\n",
    "        for value in count.values():\n",
    "            if value != 0:\n",
    "                return False\n",
    "            \n",
    "        return True\n",
    "    \n",
    "\n",
    "solution = Solution()\n",
    "print(solution.isAnagram(s=\"anagram\", t=\"nagaram\"))\n",
    "print(solution.isAnagram(s=\"rat\", t=\"car\"))"
   ]
  },
  {
   "cell_type": "code",
   "execution_count": 173,
   "metadata": {},
   "outputs": [
    {
     "name": "stdout",
     "output_type": "stream",
     "text": [
      "True\n",
      "False\n"
     ]
    }
   ],
   "source": [
    "from typing import Counter\n",
    "\n",
    "\n",
    "class Solution:\n",
    "    def isAnagram(self, s: str, t: str) -> bool:\n",
    "        return Counter(s) == Counter(t)\n",
    "\n",
    "\n",
    "solution = Solution()\n",
    "print(solution.isAnagram(s=\"anagram\", t=\"nagaram\"))\n",
    "print(solution.isAnagram(s=\"rat\", t=\"car\"))"
   ]
  },
  {
   "cell_type": "code",
   "execution_count": 174,
   "metadata": {},
   "outputs": [
    {
     "name": "stdout",
     "output_type": "stream",
     "text": [
      "True\n",
      "False\n"
     ]
    }
   ],
   "source": [
    "class Solution:\n",
    "    def isAnagram(self, s: str, t: str) -> bool:\n",
    "        if len(s) != len(t):\n",
    "            return False\n",
    "\n",
    "        count = [0] * 26  # lowercase English letters\n",
    "\n",
    "        for i in range(len(s)):\n",
    "            count[ord(s[i]) - ord(\"a\")] += 1\n",
    "            count[ord(t[i]) - ord(\"a\")] -= 1\n",
    "\n",
    "        return all(c == 0 for c in count)\n",
    "\n",
    "\n",
    "solution = Solution()\n",
    "print(solution.isAnagram(s=\"anagram\", t=\"nagaram\"))\n",
    "print(solution.isAnagram(s=\"rat\", t=\"car\"))"
   ]
  },
  {
   "cell_type": "markdown",
   "metadata": {},
   "source": [
    "## 1. Two Sum\n",
    "\n",
    "Given an array of integers `nums` and an integer `target`, return\n",
    "*indices of the two numbers such that they add up to `target`*.\n",
    "\n",
    "You may assume that each input would have ***exactly* one solution**,\n",
    "and you may not use the *same* element twice.\n",
    "\n",
    "You can return the answer in any order.\n",
    "\n",
    "**Example 1:**\n",
    "\n",
    "    Input: nums = [2,7,11,15], target = 9\n",
    "    Output: [0,1]\n",
    "    Explanation: Because nums[0] + nums[1] == 9, we return [0, 1].\n",
    "\n",
    "**Example 2:**\n",
    "\n",
    "    Input: nums = [3,2,4], target = 6\n",
    "    Output: [1,2]\n",
    "\n",
    "**Example 3:**\n",
    "\n",
    "    Input: nums = [3,3], target = 6\n",
    "    Output: [0,1]\n",
    "\n",
    "**Constraints:**\n",
    "\n",
    "- `2 <= nums.length <= 10`<sup>`4`</sup>\n",
    "- `-10`<sup>`9`</sup>`<= nums[i] <= 10`<sup>`9`</sup>\n",
    "- `-10`<sup>`9`</sup>`<= target <= 10`<sup>`9`</sup>\n",
    "- **Only one valid answer exists.**\n",
    "\n",
    "**Follow-up:** Can you come up with an algorithm that is less than\n",
    "`O(n`<sup>`2`</sup>`)` time complexity?"
   ]
  },
  {
   "cell_type": "markdown",
   "metadata": {},
   "source": [
    "### Brute Force - O(n^2), O(1)"
   ]
  },
  {
   "cell_type": "code",
   "execution_count": 175,
   "metadata": {},
   "outputs": [
    {
     "name": "stdout",
     "output_type": "stream",
     "text": [
      "[0, 1]\n",
      "[1, 2]\n",
      "[0, 1]\n"
     ]
    }
   ],
   "source": [
    "class Solution:\n",
    "    def twoSum(self, nums: list[int], target: int) -> list[int]:\n",
    "        n = len(nums)\n",
    "\n",
    "        for i in range(n):\n",
    "            for j in range(i + 1, n):\n",
    "                if nums[i] + nums[j] == target:\n",
    "                    return [i, j]\n",
    "\n",
    "        return []\n",
    "\n",
    "\n",
    "solution = Solution()\n",
    "print(solution.twoSum(nums=[2, 7, 11, 15], target=9))\n",
    "print(solution.twoSum(nums=[3, 2, 4], target=6))\n",
    "print(solution.twoSum(nums=[3, 3], target=6))"
   ]
  }
 ],
 "metadata": {
  "kernelspec": {
   "display_name": "Python 3",
   "language": "python",
   "name": "python3"
  },
  "language_info": {
   "codemirror_mode": {
    "name": "ipython",
    "version": 3
   },
   "file_extension": ".py",
   "mimetype": "text/x-python",
   "name": "python",
   "nbconvert_exporter": "python",
   "pygments_lexer": "ipython3",
   "version": "3.12.3"
  }
 },
 "nbformat": 4,
 "nbformat_minor": 2
}
