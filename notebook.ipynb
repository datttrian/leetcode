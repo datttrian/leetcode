{
 "cells": [
  {
   "cell_type": "markdown",
   "metadata": {},
   "source": [
    "# LeetCode"
   ]
  },
  {
   "cell_type": "markdown",
   "metadata": {},
   "source": [
    "## Easy"
   ]
  },
  {
   "cell_type": "markdown",
   "metadata": {},
   "source": [
    "### 217. Contains Duplicate\n",
    "\n",
    "Given an integer array `nums`, return `true` if any value appears **at\n",
    "least twice** in the array, and return `false` if every element is\n",
    "distinct.\n",
    "\n",
    "**Example 1:**\n",
    "\n",
    "    Input: nums = [1,2,3,1]\n",
    "    Output: true\n",
    "\n",
    "**Example 2:**\n",
    "\n",
    "    Input: nums = [1,2,3,4]\n",
    "    Output: false\n",
    "\n",
    "**Example 3:**\n",
    "\n",
    "    Input: nums = [1,1,1,3,3,4,3,2,4,2]\n",
    "    Output: true\n",
    "\n",
    "**Constraints:**\n",
    "\n",
    "- `1 <= nums.length <= 10`<sup>`5`</sup>\n",
    "- `-10`<sup>`9`</sup>`<= nums[i] <= 10`<sup>`9`</sup>"
   ]
  },
  {
   "cell_type": "markdown",
   "metadata": {},
   "source": [
    "#### Brute Force - O(n^2), O(1)"
   ]
  },
  {
   "cell_type": "code",
   "execution_count": 841,
   "metadata": {},
   "outputs": [
    {
     "name": "stdout",
     "output_type": "stream",
     "text": [
      "True\n",
      "False\n",
      "True\n"
     ]
    }
   ],
   "source": [
    "class Solution:\n",
    "    def containsDuplicate(self, nums: list[int]) -> bool:\n",
    "        n = len(nums)\n",
    "        for i in range(n):\n",
    "            for j in range(i + 1, n):\n",
    "                if nums[i] == nums[j]:\n",
    "                    return True\n",
    "        return False\n",
    "\n",
    "\n",
    "solution = Solution()\n",
    "print(solution.containsDuplicate(nums=[1, 2, 3, 1]))\n",
    "print(solution.containsDuplicate(nums=[1, 2, 3, 4]))\n",
    "print(solution.containsDuplicate(nums=[1, 1, 1, 3, 3, 4, 3, 2, 4, 2]))"
   ]
  },
  {
   "cell_type": "markdown",
   "metadata": {},
   "source": [
    "#### Sorting - O(n log n), O(1)"
   ]
  },
  {
   "cell_type": "code",
   "execution_count": 842,
   "metadata": {},
   "outputs": [
    {
     "name": "stdout",
     "output_type": "stream",
     "text": [
      "True\n",
      "False\n",
      "True\n"
     ]
    }
   ],
   "source": [
    "class Solution:\n",
    "    def containsDuplicate(self, nums: list[int]) -> bool:\n",
    "        nums.sort()\n",
    "        for i in range(1, len(nums)):\n",
    "            if nums[i] == nums[i - 1]:\n",
    "                return True\n",
    "        return False\n",
    "\n",
    "\n",
    "solution = Solution()\n",
    "print(solution.containsDuplicate(nums=[1, 2, 3, 1]))\n",
    "print(solution.containsDuplicate(nums=[1, 2, 3, 4]))\n",
    "print(solution.containsDuplicate(nums=[1, 1, 1, 3, 3, 4, 3, 2, 4, 2]))"
   ]
  },
  {
   "cell_type": "markdown",
   "metadata": {},
   "source": [
    "#### Arrays & Hashing - O(n), O(n)"
   ]
  },
  {
   "cell_type": "code",
   "execution_count": 843,
   "metadata": {},
   "outputs": [
    {
     "name": "stdout",
     "output_type": "stream",
     "text": [
      "True\n",
      "False\n",
      "True\n"
     ]
    }
   ],
   "source": [
    "class Solution:\n",
    "    def containsDuplicate(self, nums: list[int]) -> bool:\n",
    "        nums_unique: set[int] = set()\n",
    "        for num in nums:\n",
    "            if num in nums_unique:\n",
    "                return True\n",
    "            nums_unique.add(num)\n",
    "        return False\n",
    "\n",
    "\n",
    "solution = Solution()\n",
    "print(solution.containsDuplicate(nums=[1, 2, 3, 1]))\n",
    "print(solution.containsDuplicate(nums=[1, 2, 3, 4]))\n",
    "print(solution.containsDuplicate(nums=[1, 1, 1, 3, 3, 4, 3, 2, 4, 2]))"
   ]
  },
  {
   "cell_type": "markdown",
   "metadata": {},
   "source": [
    "### 242. Valid Anagram\n",
    "\n",
    "Given two strings `s` and `t`, return `true` *if* `t` *is an anagram of*\n",
    "`s`*, and* `false` *otherwise*.\n",
    "\n",
    "An **Anagram** is a word or phrase formed by rearranging the letters of\n",
    "a different word or phrase, typically using all the original letters\n",
    "exactly once.\n",
    "\n",
    "**Example 1:**\n",
    "\n",
    "    Input: s = \"anagram\", t = \"nagaram\"\n",
    "    Output: true\n",
    "\n",
    "**Example 2:**\n",
    "\n",
    "    Input: s = \"rat\", t = \"car\"\n",
    "    Output: false\n",
    "\n",
    "**Constraints:**\n",
    "\n",
    "- `1 <= s.length, t.length <= 5 * 10`<sup>`4`</sup>\n",
    "- `s` and `t` consist of lowercase English letters.\n",
    "\n",
    "**Follow up:** What if the inputs contain Unicode characters? How would\n",
    "you adapt your solution to such a case?"
   ]
  },
  {
   "cell_type": "markdown",
   "metadata": {},
   "source": [
    "#### Brute Force - O(n^2), O(1)"
   ]
  },
  {
   "cell_type": "code",
   "execution_count": 844,
   "metadata": {},
   "outputs": [
    {
     "name": "stdout",
     "output_type": "stream",
     "text": [
      "True\n",
      "False\n"
     ]
    }
   ],
   "source": [
    "class Solution:\n",
    "    def isAnagram(self, s: str, t: str) -> bool:\n",
    "        if len(s) != len(t):\n",
    "            return False\n",
    "\n",
    "        for char in s:\n",
    "            is_matched = False\n",
    "\n",
    "            for i in range(len(t)):\n",
    "                if t[i] == char:\n",
    "                    t = t[:i] + t[i + 1 :]\n",
    "                    is_matched = True\n",
    "                    break\n",
    "\n",
    "            if not is_matched:\n",
    "                return False\n",
    "\n",
    "        return True\n",
    "\n",
    "\n",
    "solution = Solution()\n",
    "print(solution.isAnagram(s=\"anagram\", t=\"nagaram\"))\n",
    "print(solution.isAnagram(s=\"rat\", t=\"car\"))"
   ]
  },
  {
   "cell_type": "markdown",
   "metadata": {},
   "source": [
    "#### Sorting - O(n log n), O(n)"
   ]
  },
  {
   "cell_type": "code",
   "execution_count": 845,
   "metadata": {},
   "outputs": [
    {
     "name": "stdout",
     "output_type": "stream",
     "text": [
      "True\n",
      "False\n"
     ]
    }
   ],
   "source": [
    "class Solution:\n",
    "    def isAnagram(self, s: str, t: str) -> bool:\n",
    "        return sorted(s) == sorted(t)\n",
    "\n",
    "\n",
    "solution = Solution()\n",
    "print(solution.isAnagram(s=\"anagram\", t=\"nagaram\"))\n",
    "print(solution.isAnagram(s=\"rat\", t=\"car\"))"
   ]
  },
  {
   "cell_type": "markdown",
   "metadata": {},
   "source": [
    "#### Arrays & Hashing - O(n), O(1)"
   ]
  },
  {
   "cell_type": "code",
   "execution_count": 846,
   "metadata": {},
   "outputs": [
    {
     "name": "stdout",
     "output_type": "stream",
     "text": [
      "True\n",
      "False\n"
     ]
    }
   ],
   "source": [
    "class Solution:\n",
    "    def isAnagram(self, s: str, t: str) -> bool:\n",
    "        if len(s) != len(t):\n",
    "            return False\n",
    "        \n",
    "        count_s: dict[str, int] = {}\n",
    "        count_t: dict[str, int] = {}\n",
    "        \n",
    "        for char in s:\n",
    "            if char in count_s:\n",
    "                count_s[char] += 1\n",
    "            else:\n",
    "                count_s[char] = 1\n",
    "        \n",
    "        for char in t:\n",
    "            if char in count_t:\n",
    "                count_t[char] += 1\n",
    "            else:\n",
    "                count_t[char] = 1\n",
    "        \n",
    "        for char in count_s:\n",
    "            if char not in count_t or count_s[char] != count_t[char]:\n",
    "                return False\n",
    "        \n",
    "        for char in count_t:\n",
    "            if char not in count_s:\n",
    "                return False\n",
    "        \n",
    "        return True\n",
    "\n",
    "\n",
    "solution = Solution()\n",
    "print(solution.isAnagram(s=\"anagram\", t=\"nagaram\"))\n",
    "print(solution.isAnagram(s=\"rat\", t=\"car\"))"
   ]
  },
  {
   "cell_type": "code",
   "execution_count": 847,
   "metadata": {},
   "outputs": [
    {
     "name": "stdout",
     "output_type": "stream",
     "text": [
      "True\n",
      "False\n"
     ]
    }
   ],
   "source": [
    "class Solution:\n",
    "    def isAnagram(self, s: str, t: str) -> bool:\n",
    "        if len(s) != len(t):\n",
    "            return False\n",
    "\n",
    "        count: dict[str, int] = {}\n",
    "\n",
    "        for char in s:\n",
    "            if char in count:\n",
    "                count[char] += 1\n",
    "            else:\n",
    "                count[char] = 1\n",
    "\n",
    "        for char in t:\n",
    "            if char in count:\n",
    "                count[char] -= 1\n",
    "            else:\n",
    "                return False\n",
    "\n",
    "        for char in count:\n",
    "            if count[char] != 0:\n",
    "                return False\n",
    "\n",
    "        return True\n",
    "\n",
    "\n",
    "solution = Solution()\n",
    "print(solution.isAnagram(s=\"anagram\", t=\"nagaram\"))\n",
    "print(solution.isAnagram(s=\"rat\", t=\"car\"))"
   ]
  },
  {
   "cell_type": "code",
   "execution_count": 848,
   "metadata": {},
   "outputs": [
    {
     "name": "stdout",
     "output_type": "stream",
     "text": [
      "True\n",
      "False\n"
     ]
    }
   ],
   "source": [
    "class Solution:\n",
    "    def isAnagram(self, s: str, t: str) -> bool:\n",
    "        if len(s) != len(t):\n",
    "            return False\n",
    "        \n",
    "        count: dict[str, int] = {}\n",
    "\n",
    "        for i in range(len(s)):\n",
    "            count[s[i]] = count.get(s[i], 0) + 1\n",
    "            count[t[i]] = count.get(t[i], 0) - 1\n",
    "\n",
    "        for value in count.values():\n",
    "            if value != 0:\n",
    "                return False\n",
    "            \n",
    "        return True\n",
    "    \n",
    "\n",
    "solution = Solution()\n",
    "print(solution.isAnagram(s=\"anagram\", t=\"nagaram\"))\n",
    "print(solution.isAnagram(s=\"rat\", t=\"car\"))"
   ]
  },
  {
   "cell_type": "code",
   "execution_count": 849,
   "metadata": {},
   "outputs": [
    {
     "name": "stdout",
     "output_type": "stream",
     "text": [
      "True\n",
      "False\n"
     ]
    }
   ],
   "source": [
    "from typing import Counter\n",
    "\n",
    "\n",
    "class Solution:\n",
    "    def isAnagram(self, s: str, t: str) -> bool:\n",
    "        return Counter(s) == Counter(t)\n",
    "\n",
    "\n",
    "solution = Solution()\n",
    "print(solution.isAnagram(s=\"anagram\", t=\"nagaram\"))\n",
    "print(solution.isAnagram(s=\"rat\", t=\"car\"))"
   ]
  },
  {
   "cell_type": "code",
   "execution_count": 850,
   "metadata": {},
   "outputs": [
    {
     "name": "stdout",
     "output_type": "stream",
     "text": [
      "True\n",
      "False\n"
     ]
    }
   ],
   "source": [
    "class Solution:\n",
    "    def isAnagram(self, s: str, t: str) -> bool:\n",
    "        if len(s) != len(t):\n",
    "            return False\n",
    "\n",
    "        count = [0] * 26  # lowercase English letters\n",
    "\n",
    "        for i in range(len(s)):\n",
    "            count[ord(s[i]) - ord(\"a\")] += 1\n",
    "            count[ord(t[i]) - ord(\"a\")] -= 1\n",
    "\n",
    "        return all(c == 0 for c in count)\n",
    "\n",
    "\n",
    "solution = Solution()\n",
    "print(solution.isAnagram(s=\"anagram\", t=\"nagaram\"))\n",
    "print(solution.isAnagram(s=\"rat\", t=\"car\"))"
   ]
  },
  {
   "cell_type": "markdown",
   "metadata": {},
   "source": [
    "### 1. Two Sum\n",
    "\n",
    "Given an array of integers `nums` and an integer `target`, return\n",
    "*indices of the two numbers such that they add up to `target`*.\n",
    "\n",
    "You may assume that each input would have ***exactly* one solution**,\n",
    "and you may not use the *same* element twice.\n",
    "\n",
    "You can return the answer in any order.\n",
    "\n",
    "**Example 1:**\n",
    "\n",
    "    Input: nums = [2,7,11,15], target = 9\n",
    "    Output: [0,1]\n",
    "    Explanation: Because nums[0] + nums[1] == 9, we return [0, 1].\n",
    "\n",
    "**Example 2:**\n",
    "\n",
    "    Input: nums = [3,2,4], target = 6\n",
    "    Output: [1,2]\n",
    "\n",
    "**Example 3:**\n",
    "\n",
    "    Input: nums = [3,3], target = 6\n",
    "    Output: [0,1]\n",
    "\n",
    "**Constraints:**\n",
    "\n",
    "- `2 <= nums.length <= 10`<sup>`4`</sup>\n",
    "- `-10`<sup>`9`</sup>`<= nums[i] <= 10`<sup>`9`</sup>\n",
    "- `-10`<sup>`9`</sup>`<= target <= 10`<sup>`9`</sup>\n",
    "- **Only one valid answer exists.**\n",
    "\n",
    "**Follow-up:** Can you come up with an algorithm that is less than\n",
    "`O(n`<sup>`2`</sup>`)` time complexity?"
   ]
  },
  {
   "cell_type": "markdown",
   "metadata": {},
   "source": [
    "#### Brute Force - O(n^2), O(1)"
   ]
  },
  {
   "cell_type": "code",
   "execution_count": 851,
   "metadata": {},
   "outputs": [
    {
     "name": "stdout",
     "output_type": "stream",
     "text": [
      "[0, 1]\n",
      "[1, 2]\n",
      "[0, 1]\n"
     ]
    }
   ],
   "source": [
    "class Solution:\n",
    "    def twoSum(self, nums: list[int], target: int) -> list[int]:\n",
    "        n = len(nums)\n",
    "\n",
    "        for i in range(n):\n",
    "            for j in range(i + 1, n):\n",
    "                if nums[i] + nums[j] == target:\n",
    "                    return [i, j]\n",
    "\n",
    "        return []\n",
    "\n",
    "\n",
    "solution = Solution()\n",
    "print(solution.twoSum(nums=[2, 7, 11, 15], target=9))\n",
    "print(solution.twoSum(nums=[3, 2, 4], target=6))\n",
    "print(solution.twoSum(nums=[3, 3], target=6))"
   ]
  },
  {
   "cell_type": "markdown",
   "metadata": {},
   "source": [
    "#### Two Pointers - O(n log n), O(n)"
   ]
  },
  {
   "cell_type": "code",
   "execution_count": 852,
   "metadata": {},
   "outputs": [
    {
     "name": "stdout",
     "output_type": "stream",
     "text": [
      "[0, 1]\n",
      "[1, 2]\n",
      "[0, 1]\n"
     ]
    }
   ],
   "source": [
    "class Solution:\n",
    "    def twoSum(self, nums: list[int], target: int) -> list[int]:\n",
    "        nums_sorted = sorted(enumerate(nums), key=lambda x: x[1])\n",
    "        left, right = 0, len(nums) - 1\n",
    "\n",
    "        while left < right:\n",
    "            sum = nums_sorted[left][1] + nums_sorted[right][1]\n",
    "            if sum == target:\n",
    "                return [nums_sorted[left][0], nums_sorted[right][0]]\n",
    "            elif sum < target:\n",
    "                left += 1\n",
    "            else:\n",
    "                right -= 1\n",
    "        return []\n",
    "\n",
    "\n",
    "solution = Solution()\n",
    "print(solution.twoSum(nums=[2, 7, 11, 15], target=9))\n",
    "print(solution.twoSum(nums=[3, 2, 4], target=6))\n",
    "print(solution.twoSum(nums=[3, 3], target=6))"
   ]
  },
  {
   "cell_type": "markdown",
   "metadata": {},
   "source": [
    "#### Arrays & Hashing - O(n), O(n)"
   ]
  },
  {
   "cell_type": "code",
   "execution_count": 853,
   "metadata": {},
   "outputs": [
    {
     "name": "stdout",
     "output_type": "stream",
     "text": [
      "[0, 1]\n",
      "[1, 2]\n",
      "[0, 1]\n"
     ]
    }
   ],
   "source": [
    "class Solution:\n",
    "    def twoSum(self, nums: list[int], target: int) -> list[int]:\n",
    "        nums_index: dict[int, int] = {}\n",
    "\n",
    "        for index, num in enumerate(nums):\n",
    "            complement = target - num\n",
    "\n",
    "            if complement in nums_index:\n",
    "                return [nums_index[complement], index]\n",
    "\n",
    "            nums_index[num] = index\n",
    "\n",
    "        return []\n",
    "\n",
    "\n",
    "solution = Solution()\n",
    "print(solution.twoSum(nums=[2, 7, 11, 15], target=9))\n",
    "print(solution.twoSum(nums=[3, 2, 4], target=6))\n",
    "print(solution.twoSum(nums=[3, 3], target=6))"
   ]
  },
  {
   "cell_type": "markdown",
   "metadata": {},
   "source": [
    "### 125. Valid Palindrome\n",
    "\n",
    "A phrase is a **palindrome** if, after converting all uppercase letters\n",
    "into lowercase letters and removing all non-alphanumeric characters, it\n",
    "reads the same forward and backward. Alphanumeric characters include\n",
    "letters and numbers.\n",
    "\n",
    "Given a string `s`, return `true` *if it is a **palindrome**, or*\n",
    "`false` *otherwise*.\n",
    "\n",
    "**Example 1:**\n",
    "\n",
    "    Input: s = \"A man, a plan, a canal: Panama\"\n",
    "    Output: true\n",
    "    Explanation: \"amanaplanacanalpanama\" is a palindrome.\n",
    "\n",
    "**Example 2:**\n",
    "\n",
    "    Input: s = \"race a car\"\n",
    "    Output: false\n",
    "    Explanation: \"raceacar\" is not a palindrome.\n",
    "\n",
    "**Example 3:**\n",
    "\n",
    "    Input: s = \" \"\n",
    "    Output: true\n",
    "    Explanation: s is an empty string \"\" after removing non-alphanumeric characters.\n",
    "    Since an empty string reads the same forward and backward, it is a palindrome.\n",
    "\n",
    "**Constraints:**\n",
    "\n",
    "- `1 <= s.length <= 2 * 10`<sup>`5`</sup>\n",
    "- `s` consists only of printable ASCII characters."
   ]
  },
  {
   "cell_type": "markdown",
   "metadata": {},
   "source": [
    "#### Brute Force - O(n), O(n)"
   ]
  },
  {
   "cell_type": "code",
   "execution_count": 854,
   "metadata": {},
   "outputs": [
    {
     "name": "stdout",
     "output_type": "stream",
     "text": [
      "True\n",
      "False\n",
      "True\n"
     ]
    }
   ],
   "source": [
    "class Solution:\n",
    "    def isPalindrome(self, s: str) -> bool:\n",
    "        normalized_s = \"\".join(char.lower() for char in s if char.isalnum())\n",
    "        return normalized_s == normalized_s[::-1]\n",
    "\n",
    "\n",
    "solution = Solution()\n",
    "print(solution.isPalindrome(s=\"A man, a plan, a canal: Panama\"))\n",
    "print(solution.isPalindrome(s=\"race a car\"))\n",
    "print(solution.isPalindrome(s=\" \"))"
   ]
  },
  {
   "cell_type": "markdown",
   "metadata": {},
   "source": [
    "#### Two Pointers - O(n), O(1)"
   ]
  },
  {
   "cell_type": "code",
   "execution_count": 855,
   "metadata": {},
   "outputs": [
    {
     "name": "stdout",
     "output_type": "stream",
     "text": [
      "True\n",
      "False\n",
      "True\n"
     ]
    }
   ],
   "source": [
    "class Solution:\n",
    "    def isPalindrome(self, s: str) -> bool:\n",
    "        def alphaNum(c: str) -> bool:\n",
    "            return (\n",
    "                ord(\"A\") <= ord(c) <= ord(\"Z\")\n",
    "                or ord(\"a\") <= ord(c) <= ord(\"z\")\n",
    "                or ord(\"0\") <= ord(c) <= ord(\"9\")\n",
    "            )\n",
    "\n",
    "        left, right = 0, len(s) - 1\n",
    "\n",
    "        while left < right:\n",
    "            while left < right and not alphaNum(s[left]):\n",
    "                left += 1\n",
    "            while left < right and not alphaNum(s[right]):\n",
    "                right -= 1\n",
    "\n",
    "            if s[left].lower() != s[right].lower():\n",
    "                return False\n",
    "\n",
    "            left += 1\n",
    "            right -= 1\n",
    "\n",
    "        return True\n",
    "\n",
    "\n",
    "solution = Solution()\n",
    "print(solution.isPalindrome(s=\"A man, a plan, a canal: Panama\"))\n",
    "print(solution.isPalindrome(s=\"race a car\"))\n",
    "print(solution.isPalindrome(s=\" \"))"
   ]
  },
  {
   "cell_type": "markdown",
   "metadata": {},
   "source": [
    "### 170. Two Sum III - Data structure design (Easy)\n",
    "\n",
    "Design a data structure that accepts a stream of integers and checks if\n",
    "it has a pair of integers that sum up to a particular value.\n",
    "\n",
    "Implement the `TwoSum` class:\n",
    "\n",
    "- `TwoSum()` Initializes the `TwoSum` object, with an empty array\n",
    "    initially.\n",
    "- `void add(int number)` Adds `number` to the data structure.\n",
    "- `boolean find(int value)` Returns `true` if there exists any pair of\n",
    "    numbers whose sum is equal to `value`, otherwise, it returns\n",
    "    `false`.\n",
    "\n",
    "**Example 1:**\n",
    "\n",
    "    Input\n",
    "    [\"TwoSum\", \"add\", \"add\", \"add\", \"find\", \"find\"]\n",
    "    [[], [1], [3], [5], [4], [7]]\n",
    "    Output\n",
    "    [null, null, null, null, true, false]\n",
    "\n",
    "    Explanation\n",
    "    TwoSum twoSum = new TwoSum();\n",
    "    twoSum.add(1);   // [] --> [1]\n",
    "    twoSum.add(3);   // [1] --> [1,3]\n",
    "    twoSum.add(5);   // [1,3] --> [1,3,5]\n",
    "    twoSum.find(4);  // 1 + 3 = 4, return true\n",
    "    twoSum.find(7);  // No two integers sum up to 7, return false\n",
    "\n",
    "**Constraints:**\n",
    "\n",
    "- `-10^5 <= number <= 10^5`\n",
    "- `-2^31 <= value <= 2^31 - 1`\n",
    "- At most `5 * 10^4` calls will be made to `add` and `find`."
   ]
  },
  {
   "cell_type": "markdown",
   "metadata": {},
   "source": [
    "## Medium"
   ]
  },
  {
   "cell_type": "markdown",
   "metadata": {},
   "source": [
    "### 167. Two Sum II - Input Array Is Sorted\n",
    "\n",
    "Given a **1-indexed** array of integers `numbers` that is already\n",
    "***sorted in non-decreasing order***, find two numbers such that they\n",
    "add up to a specific `target` number. Let these two numbers be\n",
    "`numbers[index`<sub>`1`</sub>`]` and `numbers[index`<sub>`2`</sub>`]`\n",
    "where\n",
    "`1 <= index`<sub>`1`</sub>`< index`<sub>`2`</sub>`<= numbers.length`.\n",
    "\n",
    "Return *the indices of the two numbers,* `index`<sub>`1`</sub> *and*\n",
    "`index`<sub>`2`</sub>*, **added by one** as an integer array*\n",
    "`[index`<sub>`1`</sub>`, index`<sub>`2`</sub>`]` *of length 2.*\n",
    "\n",
    "The tests are generated such that there is **exactly one solution**. You\n",
    "**may not** use the same element twice.\n",
    "\n",
    "Your solution must use only constant extra space.\n",
    "\n",
    "**Example 1:**\n",
    "\n",
    "    Input: numbers = [2,7,11,15], target = 9\n",
    "    Output: [1,2]\n",
    "    Explanation: The sum of 2 and 7 is 9. Therefore, index1 = 1, index2 = 2. We return [1, 2].\n",
    "\n",
    "**Example 2:**\n",
    "\n",
    "    Input: numbers = [2,3,4], target = 6\n",
    "    Output: [1,3]\n",
    "    Explanation: The sum of 2 and 4 is 6. Therefore index1 = 1, index2 = 3. We return [1, 3].\n",
    "\n",
    "**Example 3:**\n",
    "\n",
    "    Input: numbers = [-1,0], target = -1\n",
    "    Output: [1,2]\n",
    "    Explanation: The sum of -1 and 0 is -1. Therefore index1 = 1, index2 = 2. We return [1, 2].\n",
    "\n",
    "**Constraints:**\n",
    "\n",
    "- `2 <= numbers.length <= 3 * 10`<sup>`4`</sup>\n",
    "- `-1000 <= numbers[i] <= 1000`\n",
    "- `numbers` is sorted in **non-decreasing order**.\n",
    "- `-1000 <= target <= 1000`\n",
    "- The tests are generated such that there is **exactly one solution**."
   ]
  },
  {
   "cell_type": "markdown",
   "metadata": {},
   "source": [
    "#### Brute Force - O(n^2), O(1)"
   ]
  },
  {
   "cell_type": "code",
   "execution_count": 856,
   "metadata": {},
   "outputs": [
    {
     "name": "stdout",
     "output_type": "stream",
     "text": [
      "[1, 2]\n",
      "[1, 3]\n",
      "[1, 2]\n"
     ]
    }
   ],
   "source": [
    "class Solution:\n",
    "    def twoSum(self, numbers: list[int], target: int) -> list[int]:\n",
    "        n = len(numbers)\n",
    "\n",
    "        for i in range(n):\n",
    "            for j in range(i + 1, n):\n",
    "                if numbers[i] + numbers[j] == target:\n",
    "                    return [i + 1, j + 1]\n",
    "\n",
    "        return []\n",
    "\n",
    "\n",
    "solution = Solution()\n",
    "print(solution.twoSum(numbers=[2, 7, 11, 15], target=9))\n",
    "print(solution.twoSum(numbers=[2, 3, 4], target=6))\n",
    "print(solution.twoSum(numbers=[-1, 0], target=-1))"
   ]
  },
  {
   "cell_type": "markdown",
   "metadata": {},
   "source": [
    "#### Arrays & Hashing - O(n), O(n)"
   ]
  },
  {
   "cell_type": "code",
   "execution_count": 857,
   "metadata": {},
   "outputs": [
    {
     "name": "stdout",
     "output_type": "stream",
     "text": [
      "[1, 2]\n",
      "[1, 3]\n",
      "[1, 2]\n"
     ]
    }
   ],
   "source": [
    "class Solution:\n",
    "    def twoSum(self, numbers: list[int], target: int) -> list[int]:\n",
    "        numbers_index: dict[int, int] = {}\n",
    "\n",
    "        for index, num in enumerate(numbers):\n",
    "            complement = target - num\n",
    "\n",
    "            if complement in numbers_index:\n",
    "                return [numbers_index[complement] + 1, index + 1]\n",
    "\n",
    "            numbers_index[num] = index\n",
    "\n",
    "        return []\n",
    "\n",
    "\n",
    "solution = Solution()\n",
    "print(solution.twoSum(numbers=[2, 7, 11, 15], target=9))\n",
    "print(solution.twoSum(numbers=[2, 3, 4], target=6))\n",
    "print(solution.twoSum(numbers=[-1, 0], target=-1))"
   ]
  },
  {
   "cell_type": "markdown",
   "metadata": {},
   "source": [
    "#### Two Pointers - O(n), O(1)"
   ]
  },
  {
   "cell_type": "code",
   "execution_count": 858,
   "metadata": {},
   "outputs": [
    {
     "name": "stdout",
     "output_type": "stream",
     "text": [
      "[1, 2]\n",
      "[1, 3]\n",
      "[1, 2]\n"
     ]
    }
   ],
   "source": [
    "class Solution:\n",
    "    def twoSum(self, numbers: list[int], target: int) -> list[int]:\n",
    "        left, right = 0, len(numbers) - 1\n",
    "\n",
    "        while left < right:\n",
    "            current_sum = numbers[left] + numbers[right]\n",
    "            if current_sum == target:\n",
    "                return [left + 1, right + 1]\n",
    "            elif current_sum < target:\n",
    "                left += 1\n",
    "            else:\n",
    "                right -= 1\n",
    "\n",
    "        return []\n",
    "\n",
    "\n",
    "solution = Solution()\n",
    "print(solution.twoSum(numbers=[2, 7, 11, 15], target=9))\n",
    "print(solution.twoSum(numbers=[2, 3, 4], target=6))\n",
    "print(solution.twoSum(numbers=[-1, 0], target=-1))"
   ]
  },
  {
   "cell_type": "markdown",
   "metadata": {},
   "source": [
    "### 15. 3Sum\n",
    "\n",
    "Given an integer array nums, return all the triplets\n",
    "`[nums[i], nums[j], nums[k]]` such that `i != j`, `i != k`, and\n",
    "`j != k`, and `nums[i] + nums[j] + nums[k] == 0`.\n",
    "\n",
    "Notice that the solution set must not contain duplicate triplets.\n",
    "\n",
    "**Example 1:**\n",
    "\n",
    "    Input: nums = [-1,0,1,2,-1,-4]\n",
    "    Output: [[-1,-1,2],[-1,0,1]]\n",
    "    Explanation: \n",
    "    nums[0] + nums[1] + nums[2] = (-1) + 0 + 1 = 0.\n",
    "    nums[1] + nums[2] + nums[4] = 0 + 1 + (-1) = 0.\n",
    "    nums[0] + nums[3] + nums[4] = (-1) + 2 + (-1) = 0.\n",
    "    The distinct triplets are [-1,0,1] and [-1,-1,2].\n",
    "    Notice that the order of the output and the order of the triplets does not matter.\n",
    "\n",
    "**Example 2:**\n",
    "\n",
    "    Input: nums = [0,1,1]\n",
    "    Output: []\n",
    "    Explanation: The only possible triplet does not sum up to 0.\n",
    "\n",
    "**Example 3:**\n",
    "\n",
    "    Input: nums = [0,0,0]\n",
    "    Output: [[0,0,0]]\n",
    "    Explanation: The only possible triplet sums up to 0.\n",
    "\n",
    "**Constraints:**\n",
    "\n",
    "- `3 <= nums.length <= 3000`\n",
    "- `-10`<sup>`5`</sup>`<= nums[i] <= 10`<sup>`5`</sup>"
   ]
  },
  {
   "cell_type": "markdown",
   "metadata": {},
   "source": [
    "#### Brute Force - O(n^3), O(n)"
   ]
  },
  {
   "cell_type": "code",
   "execution_count": 859,
   "metadata": {},
   "outputs": [
    {
     "name": "stdout",
     "output_type": "stream",
     "text": [
      "[[-1, 0, 1], [-1, -1, 2]]\n",
      "[]\n",
      "[[0, 0, 0]]\n"
     ]
    }
   ],
   "source": [
    "class Solution:\n",
    "    def threeSum(self, nums: list[int]) -> list[list[int]]:\n",
    "        n = len(nums)\n",
    "        triplets: list[list[int]] = []\n",
    "\n",
    "        for i in range(n):\n",
    "            for j in range(i + 1, n):\n",
    "                for k in range(j + 1, n):\n",
    "                    if nums[i] + nums[j] + nums[k] == 0:\n",
    "                        triplet = sorted([nums[i], nums[j], nums[k]])\n",
    "                        if triplet not in triplets:\n",
    "                            triplets.append(triplet)\n",
    "\n",
    "        return triplets\n",
    "\n",
    "\n",
    "solution = Solution()\n",
    "print(solution.threeSum(nums=[-1, 0, 1, 2, -1, -4]))\n",
    "print(solution.threeSum(nums=[0, 1, 1]))\n",
    "print(solution.threeSum(nums=[0, 0, 0]))"
   ]
  },
  {
   "cell_type": "markdown",
   "metadata": {},
   "source": [
    "## Hard"
   ]
  },
  {
   "cell_type": "markdown",
   "metadata": {},
   "source": [
    "### 778. Swim in Rising Water\n",
    "\n",
    "You are given an `n x n` integer matrix `grid` where each value\n",
    "`grid[i][j]` represents the elevation at that point `(i, j)`.\n",
    "\n",
    "The rain starts to fall. At time `t`, the depth of the water everywhere\n",
    "is `t`. You can swim from a square to another 4-directionally adjacent\n",
    "square if and only if the elevation of both squares individually are at\n",
    "most `t`. You can swim infinite distances in zero time. Of course, you\n",
    "must stay within the boundaries of the grid during your swim.\n",
    "\n",
    "Return *the least time until you can reach the bottom right square*\n",
    "`(n - 1, n - 1)` *if you start at the top left square* `(0, 0)`.\n",
    "\n",
    "**Example 1:**\n",
    "\n",
    "<img src=\"https://assets.leetcode.com/uploads/2021/06/29/swim1-grid.jpg\"\n",
    "style=\"width: 164px; height: 165px;\" />\n",
    "\n",
    "    Input: grid = [[0,2],[1,3]]\n",
    "    Output: 3\n",
    "    Explanation:\n",
    "    At time 0, you are in grid location (0, 0).\n",
    "    You cannot go anywhere else because 4-directionally adjacent neighbors have a higher elevation than t = 0.\n",
    "    You cannot reach point (1, 1) until time 3.\n",
    "    When the depth of water is 3, we can swim anywhere inside the grid.\n",
    "\n",
    "**Example 2:**\n",
    "\n",
    "<img\n",
    "src=\"https://assets.leetcode.com/uploads/2021/06/29/swim2-grid-1.jpg\"\n",
    "style=\"width: 404px; height: 405px;\" />\n",
    "\n",
    "    Input: grid = [[0,1,2,3,4],[24,23,22,21,5],[12,13,14,15,16],[11,17,18,19,20],[10,9,8,7,6]]\n",
    "    Output: 16\n",
    "    Explanation: The final route is shown.\n",
    "    We need to wait until time 16 so that (0, 0) and (4, 4) are connected.\n",
    "\n",
    "**Constraints:**\n",
    "\n",
    "- `n == grid.length`\n",
    "- `n == grid[i].length`\n",
    "- `1 <= n <= 50`\n",
    "- `0 <= grid[i][j] < n`<sup>`2`</sup>\n",
    "- Each value `grid[i][j]` is **unique**."
   ]
  },
  {
   "cell_type": "code",
   "execution_count": 860,
   "metadata": {},
   "outputs": [],
   "source": [
    "from collections import deque\n",
    "\n",
    "\n",
    "class Solution:\n",
    "    def swimInWater(self, grid: list[list[int]]) -> int:\n",
    "\n",
    "        n = len(grid)\n",
    "\n",
    "        def can_swim(t: int) -> bool:\n",
    "            directions = [(0, 1), (1, 0), (0, -1), (-1, 0)]\n",
    "            queue: deque[tuple[int, int]] = deque([(0, 0)])\n",
    "            visited: set[tuple[int, int]] = set()\n",
    "            visited.add((0, 0))\n",
    "\n",
    "            while queue:\n",
    "                x, y = queue.popleft()\n",
    "                if x == n - 1 and y == n - 1:\n",
    "                    return True\n",
    "\n",
    "                for dx, dy in directions:\n",
    "                    nx, ny = x + dx, y + dy\n",
    "                    if (\n",
    "                        0 <= nx < n\n",
    "                        and 0 <= ny < n\n",
    "                        and (nx, ny) not in visited\n",
    "                        and grid[nx][ny] <= t\n",
    "                    ):\n",
    "                        visited.add((nx, ny))\n",
    "                        queue.append((nx, ny))\n",
    "\n",
    "            return False\n",
    "\n",
    "        low, high = grid[0][0], max(max(row) for row in grid)\n",
    "\n",
    "        while low < high:\n",
    "            mid = (low + high) // 2\n",
    "            if can_swim(mid):\n",
    "                high = mid\n",
    "            else:\n",
    "                low = mid + 1\n",
    "\n",
    "        return low"
   ]
  }
 ],
 "metadata": {
  "kernelspec": {
   "display_name": "Python 3",
   "language": "python",
   "name": "python3"
  },
  "language_info": {
   "codemirror_mode": {
    "name": "ipython",
    "version": 3
   },
   "file_extension": ".py",
   "mimetype": "text/x-python",
   "name": "python",
   "nbconvert_exporter": "python",
   "pygments_lexer": "ipython3",
   "version": "3.12.3"
  }
 },
 "nbformat": 4,
 "nbformat_minor": 2
}
