{
 "cells": [
  {
   "cell_type": "code",
   "execution_count": 5,
   "metadata": {},
   "outputs": [
    {
     "name": "stdout",
     "output_type": "stream",
     "text": [
      "\n",
      "\u001b[1m[\u001b[0m\u001b[34;49mnotice\u001b[0m\u001b[1;39;49m]\u001b[0m\u001b[39;49m A new release of pip is available: \u001b[0m\u001b[31;49m24.0\u001b[0m\u001b[39;49m -> \u001b[0m\u001b[32;49m24.1.1\u001b[0m\n",
      "\u001b[1m[\u001b[0m\u001b[34;49mnotice\u001b[0m\u001b[1;39;49m]\u001b[0m\u001b[39;49m To update, run: \u001b[0m\u001b[32;49mpip install --upgrade pip\u001b[0m\n",
      "Note: you may need to restart the kernel to use updated packages.\n"
     ]
    }
   ],
   "source": [
    "pip install --quiet matplotlib networkx"
   ]
  },
  {
   "cell_type": "code",
   "execution_count": 13,
   "metadata": {},
   "outputs": [
    {
     "name": "stdout",
     "output_type": "stream",
     "text": [
      "Input string: ()[]{}\n",
      "----------------------------------------\n",
      "Iteration 1:\n",
      "Character: (\n",
      "Stack (after append): ['(']\n",
      "Iteration 2:\n",
      "Character: )\n",
      "Stack (after pop): []\n",
      "Iteration 3:\n",
      "Character: [\n",
      "Stack (after append): ['[']\n",
      "Iteration 4:\n",
      "Character: ]\n",
      "Stack (after pop): []\n",
      "Iteration 5:\n",
      "Character: {\n",
      "Stack (after append): ['{']\n",
      "Iteration 6:\n",
      "Character: }\n",
      "Stack (after pop): []\n",
      "----------------------------------------\n",
      "Final Stack: []\n",
      "Result: Valid\n",
      "True\n",
      "Input string: (]\n",
      "----------------------------------------\n",
      "Iteration 1:\n",
      "Character: (\n",
      "Stack (after append): ['(']\n",
      "Iteration 2:\n",
      "Character: ]\n",
      "Stack: []\n",
      "Result: Invalid\n",
      "False\n"
     ]
    }
   ],
   "source": [
    "class Solution:\n",
    "    def isValid(self, s: str) -> bool:\n",
    "        stack: list[str] = []\n",
    "        matching_parentheses = {\")\": \"(\", \"}\": \"{\", \"]\": \"[\"}\n",
    "\n",
    "        print(f\"Input string: {s}\")\n",
    "        print(\"-\" * 40)\n",
    "\n",
    "        for index, char in enumerate(s):\n",
    "            if char in matching_parentheses:\n",
    "                if not stack or stack.pop() != matching_parentheses[char]:\n",
    "                    print(f\"Iteration {index + 1}:\")\n",
    "                    print(f\"Character: {char}\")\n",
    "                    print(f\"Stack: {stack}\")\n",
    "                    print(\"Result: Invalid\")\n",
    "                    return False\n",
    "                else:\n",
    "                    print(f\"Iteration {index + 1}:\")\n",
    "                    print(f\"Character: {char}\")\n",
    "                    print(f\"Stack (after pop): {stack}\")\n",
    "            else:\n",
    "                stack.append(char)\n",
    "                print(f\"Iteration {index + 1}:\")\n",
    "                print(f\"Character: {char}\")\n",
    "                print(f\"Stack (after append): {stack}\")\n",
    "\n",
    "        print(\"-\" * 40)\n",
    "        print(f\"Final Stack: {stack}\")\n",
    "        result = not stack\n",
    "        print(f\"Result: {'Valid' if result else 'Invalid'}\")\n",
    "        return result\n",
    "\n",
    "solution = Solution()\n",
    "print(solution.isValid(s=\"()[]{}\"))  # True\n",
    "print(solution.isValid(s=\"(]\"))  # False\n"
   ]
  },
  {
   "cell_type": "code",
   "execution_count": 14,
   "metadata": {},
   "outputs": [
    {
     "name": "stdout",
     "output_type": "stream",
     "text": [
      "Input string: ()[]{}\n",
      "----------------------------------------\n",
      "Iteration 1:\n",
      "Character: (\n",
      "Queue (after append): ['(']\n",
      "Iteration 2:\n",
      "Character: )\n",
      "Queue (after pop): []\n",
      "Iteration 3:\n",
      "Character: [\n",
      "Queue (after append): ['[']\n",
      "Iteration 4:\n",
      "Character: ]\n",
      "Queue (after pop): []\n",
      "Iteration 5:\n",
      "Character: {\n",
      "Queue (after append): ['{']\n",
      "Iteration 6:\n",
      "Character: }\n",
      "Queue (after pop): []\n",
      "----------------------------------------\n",
      "Final Queue: []\n",
      "Result: Valid\n",
      "True\n",
      "Input string: (]\n",
      "----------------------------------------\n",
      "Iteration 1:\n",
      "Character: (\n",
      "Queue (after append): ['(']\n",
      "Iteration 2:\n",
      "Character: ]\n",
      "Queue: []\n",
      "Result: Invalid\n",
      "False\n"
     ]
    }
   ],
   "source": [
    "from collections import deque\n",
    "\n",
    "class Solution:\n",
    "    def isValid(self, s: str) -> bool:\n",
    "        queue: deque[str] = deque()\n",
    "        matching_parentheses = {\")\": \"(\", \"}\": \"{\", \"]\": \"[\"}\n",
    "\n",
    "        print(f\"Input string: {s}\")\n",
    "        print(\"-\" * 40)\n",
    "\n",
    "        for index, char in enumerate(s):\n",
    "            if char in matching_parentheses:\n",
    "                if not queue or queue.pop() != matching_parentheses[char]:\n",
    "                    print(f\"Iteration {index + 1}:\")\n",
    "                    print(f\"Character: {char}\")\n",
    "                    print(f\"Queue: {list(queue)}\")\n",
    "                    print(\"Result: Invalid\")\n",
    "                    return False\n",
    "                else:\n",
    "                    print(f\"Iteration {index + 1}:\")\n",
    "                    print(f\"Character: {char}\")\n",
    "                    print(f\"Queue (after pop): {list(queue)}\")\n",
    "            else:\n",
    "                queue.append(char)\n",
    "                print(f\"Iteration {index + 1}:\")\n",
    "                print(f\"Character: {char}\")\n",
    "                print(f\"Queue (after append): {list(queue)}\")\n",
    "\n",
    "        print(\"-\" * 40)\n",
    "        print(f\"Final Queue: {list(queue)}\")\n",
    "        result = not queue\n",
    "        print(f\"Result: {'Valid' if result else 'Invalid'}\")\n",
    "        return result\n",
    "\n",
    "solution = Solution()\n",
    "print(solution.isValid(s=\"()[]{}\"))  # True\n",
    "print(solution.isValid(s=\"(]\"))  # False"
   ]
  }
 ],
 "metadata": {
  "kernelspec": {
   "display_name": "Python 3",
   "language": "python",
   "name": "python3"
  },
  "language_info": {
   "codemirror_mode": {
    "name": "ipython",
    "version": 3
   },
   "file_extension": ".py",
   "mimetype": "text/x-python",
   "name": "python",
   "nbconvert_exporter": "python",
   "pygments_lexer": "ipython3",
   "version": "3.12.3"
  }
 },
 "nbformat": 4,
 "nbformat_minor": 2
}
