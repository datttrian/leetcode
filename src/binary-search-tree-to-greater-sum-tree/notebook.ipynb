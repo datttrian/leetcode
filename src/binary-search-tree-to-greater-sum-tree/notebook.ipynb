{
 "cells": [
  {
   "cell_type": "markdown",
   "metadata": {},
   "source": [
    "# 1038. Binary Search Tree to Greater Sum Tree"
   ]
  },
  {
   "cell_type": "code",
   "execution_count": 2,
   "metadata": {},
   "outputs": [],
   "source": [
    "from binary_search_tree_to_greater_sum_tree import Solution, list_to_tree, tree_to_list"
   ]
  },
  {
   "cell_type": "code",
   "execution_count": 3,
   "metadata": {},
   "outputs": [
    {
     "name": "stdout",
     "output_type": "stream",
     "text": [
      "[30, 36, 21, 36, 35, 26, 15, None, None, None, 33, None, None, None, 8]\n",
      "[1, None, 1]\n"
     ]
    }
   ],
   "source": [
    "solution = Solution()\n",
    "print(tree_to_list(solution.bstToGst(list_to_tree(\n",
    "    [4, 1, 6, 0, 2, 5, 7, None, None, None, 3, None, None, None, 8]))))\n",
    "print(tree_to_list(solution.bstToGst(list_to_tree([0, None, 1]))))"
   ]
  }
 ],
 "metadata": {
  "kernelspec": {
   "display_name": "Python 3",
   "language": "python",
   "name": "python3"
  },
  "language_info": {
   "codemirror_mode": {
    "name": "ipython",
    "version": 3
   },
   "file_extension": ".py",
   "mimetype": "text/x-python",
   "name": "python",
   "nbconvert_exporter": "python",
   "pygments_lexer": "ipython3",
   "version": "3.12.3"
  }
 },
 "nbformat": 4,
 "nbformat_minor": 2
}
