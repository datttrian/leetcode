{
 "cells": [
  {
   "cell_type": "markdown",
   "metadata": {},
   "source": [
    "# LeetCode"
   ]
  },
  {
   "cell_type": "markdown",
   "metadata": {},
   "source": [
    "## Easy"
   ]
  },
  {
   "cell_type": "markdown",
   "metadata": {},
   "source": [
    "### 217. Contains Duplicate\n",
    "\n",
    "Given an integer array `nums`, return `true` if any value appears **at\n",
    "least twice** in the array, and return `false` if every element is\n",
    "distinct.\n",
    "\n",
    "**Example 1:**\n",
    "\n",
    "    Input: nums = [1,2,3,1]\n",
    "    Output: true\n",
    "\n",
    "**Example 2:**\n",
    "\n",
    "    Input: nums = [1,2,3,4]\n",
    "    Output: false\n",
    "\n",
    "**Example 3:**\n",
    "\n",
    "    Input: nums = [1,1,1,3,3,4,3,2,4,2]\n",
    "    Output: true\n",
    "\n",
    "**Constraints:**\n",
    "\n",
    "- `1 <= nums.length <= 10`<sup>`5`</sup>\n",
    "- `-10`<sup>`9`</sup>`<= nums[i] <= 10`<sup>`9`</sup>"
   ]
  },
  {
   "cell_type": "markdown",
   "metadata": {},
   "source": [
    "#### Brute Force - O(n^2), O(1)"
   ]
  },
  {
   "cell_type": "code",
   "execution_count": 1,
   "metadata": {},
   "outputs": [
    {
     "name": "stdout",
     "output_type": "stream",
     "text": [
      "True\n",
      "False\n",
      "True\n"
     ]
    }
   ],
   "source": [
    "class Solution:\n",
    "    def containsDuplicate(self, nums: list[int]) -> bool:\n",
    "\n",
    "        # Loop through each element in the list 'nums'\n",
    "        length = len(nums)\n",
    "        for current_index in range(length):\n",
    "\n",
    "            # Loop through the remaining elements\n",
    "            for comparison_index in range(current_index + 1, length):\n",
    "\n",
    "                # Return True if the elements at the two indices are equal\n",
    "                if nums[current_index] == nums[comparison_index]:\n",
    "                    return True\n",
    "\n",
    "        # Return False if no such equality is found after checking all pairs\n",
    "        return False\n",
    "\n",
    "\n",
    "solution = Solution()\n",
    "print(solution.containsDuplicate(nums=[1, 2, 3, 1]))\n",
    "print(solution.containsDuplicate(nums=[1, 2, 3, 4]))\n",
    "print(solution.containsDuplicate(nums=[1, 1, 1, 3, 3, 4, 3, 2, 4, 2]))"
   ]
  },
  {
   "cell_type": "markdown",
   "metadata": {},
   "source": [
    "#### Sorting - O(n log n), O(1)"
   ]
  },
  {
   "cell_type": "code",
   "execution_count": 2,
   "metadata": {},
   "outputs": [
    {
     "name": "stdout",
     "output_type": "stream",
     "text": [
      "True\n",
      "False\n",
      "True\n"
     ]
    }
   ],
   "source": [
    "class Solution:\n",
    "    def containsDuplicate(self, nums: list[int]) -> bool:\n",
    "\n",
    "        # Sort the list 'nums' in ascending order\n",
    "        nums.sort()\n",
    "\n",
    "        # Loop through the list starting from the second element\n",
    "        for index in range(1, len(nums)):\n",
    "\n",
    "            # Return True if the current element is equal to the previous element\n",
    "            if nums[index] == nums[index - 1]:\n",
    "                return True\n",
    "\n",
    "        # Return False if no such equality is found after checking all elements\n",
    "        return False\n",
    "\n",
    "\n",
    "solution = Solution()\n",
    "print(solution.containsDuplicate(nums=[1, 2, 3, 1]))\n",
    "print(solution.containsDuplicate(nums=[1, 2, 3, 4]))\n",
    "print(solution.containsDuplicate(nums=[1, 1, 1, 3, 3, 4, 3, 2, 4, 2]))"
   ]
  },
  {
   "cell_type": "markdown",
   "metadata": {},
   "source": [
    "#### Arrays & Hashing - O(n), O(n)"
   ]
  },
  {
   "cell_type": "code",
   "execution_count": 3,
   "metadata": {},
   "outputs": [
    {
     "name": "stdout",
     "output_type": "stream",
     "text": [
      "True\n",
      "False\n",
      "True\n"
     ]
    }
   ],
   "source": [
    "class Solution:\n",
    "    def containsDuplicate(self, nums: list[int]) -> bool:\n",
    "\n",
    "        # Create an empty set to store unique numbers in 'nums'\n",
    "        unique_nums: set[int] = set()\n",
    "\n",
    "        # Loop through each num in the list 'nums'\n",
    "        for num in nums:\n",
    "\n",
    "            # Check if the current num is already in the set\n",
    "            if num in unique_nums:\n",
    "                \n",
    "                # Return True if a duplicate is found\n",
    "                return True\n",
    "            \n",
    "            # Add the current num to the set\n",
    "            unique_nums.add(num)\n",
    "\n",
    "        # Return False if no duplicates are found after checking all elements\n",
    "        return False\n",
    "\n",
    "\n",
    "solution = Solution()\n",
    "print(solution.containsDuplicate(nums=[1, 2, 3, 1]))\n",
    "print(solution.containsDuplicate(nums=[1, 2, 3, 4]))\n",
    "print(solution.containsDuplicate(nums=[1, 1, 1, 3, 3, 4, 3, 2, 4, 2]))"
   ]
  },
  {
   "cell_type": "markdown",
   "metadata": {},
   "source": [
    "### 242. Valid Anagram\n",
    "\n",
    "Given two strings `s` and `t`, return `true` *if* `t` *is an anagram of*\n",
    "`s`*, and* `false` *otherwise*.\n",
    "\n",
    "An **Anagram** is a word or phrase formed by rearranging the letters of\n",
    "a different word or phrase, typically using all the original letters\n",
    "exactly once.\n",
    "\n",
    "**Example 1:**\n",
    "\n",
    "    Input: s = \"anagram\", t = \"nagaram\"\n",
    "    Output: true\n",
    "\n",
    "**Example 2:**\n",
    "\n",
    "    Input: s = \"rat\", t = \"car\"\n",
    "    Output: false\n",
    "\n",
    "**Constraints:**\n",
    "\n",
    "- `1 <= s.length, t.length <= 5 * 10`<sup>`4`</sup>\n",
    "- `s` and `t` consist of lowercase English letters.\n",
    "\n",
    "**Follow up:** What if the inputs contain Unicode characters? How would\n",
    "you adapt your solution to such a case?"
   ]
  },
  {
   "cell_type": "markdown",
   "metadata": {},
   "source": [
    "#### Brute Force - O(n^2), O(1)"
   ]
  },
  {
   "cell_type": "code",
   "execution_count": 4,
   "metadata": {},
   "outputs": [
    {
     "name": "stdout",
     "output_type": "stream",
     "text": [
      "True\n",
      "False\n"
     ]
    }
   ],
   "source": [
    "class Solution:\n",
    "    def isAnagram(self, s: str, t: str) -> bool:\n",
    "\n",
    "        # Base case: If the lengths are different, they cannot be anagrams\n",
    "        if len(s) != len(t):\n",
    "            return False\n",
    "\n",
    "        # Loop through each character in the string 's'\n",
    "        for char in s:\n",
    "\n",
    "            # Create a flag to check if a matching character is found\n",
    "            is_matched = False\n",
    "\n",
    "            # Iterate through each character in the string 't'\n",
    "            for index, current_char in enumerate(t):\n",
    "\n",
    "                # If a matching character is found, remove it from 't'\n",
    "                if current_char == char:\n",
    "                    t = t[:index] + t[index + 1 :]\n",
    "\n",
    "                    # Set the flag to True indicating a match is found and exit the loop\n",
    "                    is_matched = True\n",
    "                    break\n",
    "\n",
    "            # If no matching character is found in 't', return False\n",
    "            if not is_matched:\n",
    "                return False\n",
    "\n",
    "        # If all characters in 's' have matching characters in 't', return True\n",
    "        return True\n",
    "\n",
    "\n",
    "solution = Solution()\n",
    "print(solution.isAnagram(s=\"anagram\", t=\"nagaram\"))\n",
    "print(solution.isAnagram(s=\"rat\", t=\"car\"))"
   ]
  },
  {
   "cell_type": "markdown",
   "metadata": {},
   "source": [
    "#### Sorting - O(n log n), O(n)"
   ]
  },
  {
   "cell_type": "code",
   "execution_count": 5,
   "metadata": {},
   "outputs": [
    {
     "name": "stdout",
     "output_type": "stream",
     "text": [
      "True\n",
      "False\n"
     ]
    }
   ],
   "source": [
    "class Solution:\n",
    "    def isAnagram(self, s: str, t: str) -> bool:\n",
    "        return sorted(s) == sorted(t)\n",
    "\n",
    "\n",
    "solution = Solution()\n",
    "print(solution.isAnagram(s=\"anagram\", t=\"nagaram\"))\n",
    "print(solution.isAnagram(s=\"rat\", t=\"car\"))"
   ]
  },
  {
   "cell_type": "markdown",
   "metadata": {},
   "source": [
    "#### Arrays & Hashing - O(n), O(1)"
   ]
  },
  {
   "cell_type": "code",
   "execution_count": 6,
   "metadata": {},
   "outputs": [
    {
     "name": "stdout",
     "output_type": "stream",
     "text": [
      "True\n",
      "False\n"
     ]
    }
   ],
   "source": [
    "from typing import Counter\n",
    "\n",
    "\n",
    "class Solution:\n",
    "    def isAnagram(self, s: str, t: str) -> bool:\n",
    "        return Counter(s) == Counter(t)\n",
    "\n",
    "\n",
    "solution = Solution()\n",
    "print(solution.isAnagram(s=\"anagram\", t=\"nagaram\"))\n",
    "print(solution.isAnagram(s=\"rat\", t=\"car\"))"
   ]
  },
  {
   "cell_type": "markdown",
   "metadata": {},
   "source": [
    "#### Using Character Count as Key - O(n), O(1)"
   ]
  },
  {
   "cell_type": "code",
   "execution_count": 7,
   "metadata": {},
   "outputs": [
    {
     "name": "stdout",
     "output_type": "stream",
     "text": [
      "True\n",
      "False\n"
     ]
    }
   ],
   "source": [
    "class Solution:\n",
    "    def isAnagram(self, s: str, t: str) -> bool:\n",
    "\n",
    "        # Base case: If the lengths are different, they cannot be anagrams\n",
    "        if len(s) != len(t):\n",
    "            return False\n",
    "\n",
    "        # Create a list to count the frequency of each English character in the strings\n",
    "        counts = [0] * 26\n",
    "\n",
    "        # Loop through each character in the strings\n",
    "        for index, char in enumerate(s):\n",
    "\n",
    "            # Increment the counts for the character in 's'\n",
    "            counts[ord(char) - ord(\"a\")] += 1\n",
    "\n",
    "            # Decrement the counts for the character in 't'\n",
    "            counts[ord(t[index]) - ord(\"a\")] -= 1\n",
    "\n",
    "        \n",
    "        # Return true if all counts are zero\n",
    "        return all(count == 0 for count in counts)\n",
    "\n",
    "\n",
    "solution = Solution()\n",
    "print(solution.isAnagram(s=\"anagram\", t=\"nagaram\"))\n",
    "print(solution.isAnagram(s=\"rat\", t=\"car\"))"
   ]
  },
  {
   "cell_type": "markdown",
   "metadata": {},
   "source": [
    "#### Using Prime Numbers - O(n), O(1)"
   ]
  },
  {
   "cell_type": "code",
   "execution_count": 8,
   "metadata": {},
   "outputs": [
    {
     "name": "stdout",
     "output_type": "stream",
     "text": [
      "True\n",
      "False\n"
     ]
    }
   ],
   "source": [
    "class Solution:\n",
    "    def isAnagram(self, s: str, t: str) -> bool:\n",
    "\n",
    "        # Map each lowercase English letter to a unique prime number\n",
    "        prime_numbers = {\n",
    "            \"a\": 2,\n",
    "            \"b\": 3,\n",
    "            \"c\": 5,\n",
    "            \"d\": 7,\n",
    "            \"e\": 11,\n",
    "            \"f\": 13,\n",
    "            \"g\": 17,\n",
    "            \"h\": 19,\n",
    "            \"i\": 23,\n",
    "            \"j\": 29,\n",
    "            \"k\": 31,\n",
    "            \"l\": 37,\n",
    "            \"m\": 41,\n",
    "            \"n\": 43,\n",
    "            \"o\": 47,\n",
    "            \"p\": 53,\n",
    "            \"q\": 59,\n",
    "            \"r\": 61,\n",
    "            \"s\": 67,\n",
    "            \"t\": 71,\n",
    "            \"u\": 73,\n",
    "            \"v\": 79,\n",
    "            \"w\": 83,\n",
    "            \"x\": 89,\n",
    "            \"y\": 97,\n",
    "            \"z\": 101,\n",
    "        }\n",
    "\n",
    "        # Initialize product_s and product_t to 1 for the product of primes corresponding to characters in the strings\n",
    "        product_s = 1\n",
    "        product_t = 1\n",
    "\n",
    "        # Loop through each character in string 's'\n",
    "        for char in s:\n",
    "\n",
    "            # Multiply product_s by the prime number corresponding to the character\n",
    "            product_s *= prime_numbers[char]\n",
    "\n",
    "        # Loop through each character in string 't'\n",
    "        for char in t:\n",
    "\n",
    "            # Multiply product_t by the prime number corresponding to the character\n",
    "            product_t *= prime_numbers[char]\n",
    "\n",
    "        # Return True if the products are equal, indicating 's' and 't' are anagrams\n",
    "        return product_s == product_t\n",
    "\n",
    "\n",
    "solution = Solution()\n",
    "print(solution.isAnagram(s=\"anagram\", t=\"nagaram\"))\n",
    "print(solution.isAnagram(s=\"rat\", t=\"car\"))"
   ]
  },
  {
   "cell_type": "markdown",
   "metadata": {},
   "source": [
    "### 1. Two Sum\n",
    "\n",
    "Given an array of integers `nums` and an integer `target`, return\n",
    "*indices of the two numbers such that they add up to `target`*.\n",
    "\n",
    "You may assume that each input would have ***exactly* one solution**,\n",
    "and you may not use the *same* element twice.\n",
    "\n",
    "You can return the answer in any order.\n",
    "\n",
    "**Example 1:**\n",
    "\n",
    "    Input: nums = [2,7,11,15], target = 9\n",
    "    Output: [0,1]\n",
    "    Explanation: Because nums[0] + nums[1] == 9, we return [0, 1].\n",
    "\n",
    "**Example 2:**\n",
    "\n",
    "    Input: nums = [3,2,4], target = 6\n",
    "    Output: [1,2]\n",
    "\n",
    "**Example 3:**\n",
    "\n",
    "    Input: nums = [3,3], target = 6\n",
    "    Output: [0,1]\n",
    "\n",
    "**Constraints:**\n",
    "\n",
    "- `2 <= nums.length <= 10`<sup>`4`</sup>\n",
    "- `-10`<sup>`9`</sup>`<= nums[i] <= 10`<sup>`9`</sup>\n",
    "- `-10`<sup>`9`</sup>`<= target <= 10`<sup>`9`</sup>\n",
    "- **Only one valid answer exists.**\n",
    "\n",
    "**Follow-up:** Can you come up with an algorithm that is less than\n",
    "`O(n`<sup>`2`</sup>`)` time complexity?"
   ]
  },
  {
   "cell_type": "markdown",
   "metadata": {},
   "source": [
    "#### Brute Force - O(n^2), O(1)"
   ]
  },
  {
   "cell_type": "code",
   "execution_count": 9,
   "metadata": {},
   "outputs": [
    {
     "name": "stdout",
     "output_type": "stream",
     "text": [
      "[0, 1]\n",
      "[1, 2]\n",
      "[0, 1]\n"
     ]
    }
   ],
   "source": [
    "class Solution:\n",
    "    def twoSum(self, nums: list[int], target: int) -> list[int]:\n",
    "\n",
    "        # Loop through each element in the list 'nums'\n",
    "        n = len(nums)\n",
    "        for current_index in range(n):\n",
    "\n",
    "            # Loop through the remaining elements\n",
    "            for comparison_index in range(current_index + 1, n):\n",
    "\n",
    "                # Return True if the sum of the elements at two indices equals 'target'\n",
    "                if nums[current_index] + nums[comparison_index] == target:\n",
    "                    return [current_index, comparison_index]\n",
    "\n",
    "        # Return an empty list if no such equality is found after checking all pairs\n",
    "        return []\n",
    "\n",
    "\n",
    "solution = Solution()\n",
    "print(solution.twoSum(nums=[2, 7, 11, 15], target=9))\n",
    "print(solution.twoSum(nums=[3, 2, 4], target=6))\n",
    "print(solution.twoSum(nums=[3, 3], target=6))"
   ]
  },
  {
   "cell_type": "markdown",
   "metadata": {},
   "source": [
    "#### Two Pointers - O(n log n), O(n)"
   ]
  },
  {
   "cell_type": "code",
   "execution_count": 10,
   "metadata": {},
   "outputs": [
    {
     "name": "stdout",
     "output_type": "stream",
     "text": [
      "[0, 1]\n",
      "[1, 2]\n",
      "[0, 1]\n"
     ]
    }
   ],
   "source": [
    "class Solution:\n",
    "    def twoSum(self, nums: list[int], target: int) -> list[int]:\n",
    "\n",
    "        # Create a sorted list of tuples where each tuple contains the original index and value of the number\n",
    "        nums_sorted = sorted(enumerate(nums), key=lambda x: x[1])\n",
    "\n",
    "        # Loop until two pointers at the start and at the end of the sorted list meet\n",
    "        left, right = 0, len(nums) - 1\n",
    "        while left < right:\n",
    "\n",
    "            # Calculate the sum of the values at the current pointers\n",
    "            current_sum = nums_sorted[left][1] + nums_sorted[right][1]\n",
    "\n",
    "            # Return the original indices of the two numbers if the current sum is equal to the 'target'\n",
    "            if current_sum == target:\n",
    "                return [nums_sorted[left][0], nums_sorted[right][0]]\n",
    "\n",
    "            # Move the left pointer to the right if the current sum is less than the 'target'\n",
    "            if current_sum < target:\n",
    "                left += 1\n",
    "\n",
    "            # Move the right pointer to the left if the current sum is greater than the 'target'\n",
    "            else:\n",
    "                right -= 1\n",
    "\n",
    "        # If no solution is found, return an empty list\n",
    "        return []\n",
    "\n",
    "\n",
    "solution = Solution()\n",
    "print(solution.twoSum(nums=[2, 7, 11, 15], target=9))\n",
    "print(solution.twoSum(nums=[3, 2, 4], target=6))\n",
    "print(solution.twoSum(nums=[3, 3], target=6))"
   ]
  },
  {
   "cell_type": "markdown",
   "metadata": {},
   "source": [
    "#### Arrays & Hashing - O(n), O(n)"
   ]
  },
  {
   "cell_type": "code",
   "execution_count": 11,
   "metadata": {},
   "outputs": [
    {
     "name": "stdout",
     "output_type": "stream",
     "text": [
      "[0, 1]\n",
      "[1, 2]\n",
      "[0, 1]\n"
     ]
    }
   ],
   "source": [
    "class Solution:\n",
    "    def twoSum(self, nums: list[int], target: int) -> list[int]:\n",
    "\n",
    "        # Create a dictionary to store the indices of seen numbers\n",
    "        nums_index: dict[int, int] = {}\n",
    "\n",
    "        # Iterate over 'nums' with their indices\n",
    "        for index, num in enumerate(nums):\n",
    "\n",
    "            # Calculate the complement of the current number and the 'target'\n",
    "            complement = target - num\n",
    "\n",
    "            # Return the indices of the two numbers if the complement is in nums_index\n",
    "            if complement in nums_index:\n",
    "                return [nums_index[complement], index]\n",
    "\n",
    "            # Otherwise, add the current number and its index to the dictionary\n",
    "            nums_index[num] = index\n",
    "\n",
    "        # If no solution is found, return an empty list\n",
    "        return []\n",
    "\n",
    "\n",
    "solution = Solution()\n",
    "print(solution.twoSum(nums=[2, 7, 11, 15], target=9))\n",
    "print(solution.twoSum(nums=[3, 2, 4], target=6))\n",
    "print(solution.twoSum(nums=[3, 3], target=6))"
   ]
  },
  {
   "cell_type": "markdown",
   "metadata": {},
   "source": [
    "### 125. Valid Palindrome\n",
    "\n",
    "A phrase is a **palindrome** if, after converting all uppercase letters\n",
    "into lowercase letters and removing all non-alphanumeric characters, it\n",
    "reads the same forward and backward. Alphanumeric characters include\n",
    "letters and numbers.\n",
    "\n",
    "Given a string `s`, return `true` *if it is a **palindrome**, or*\n",
    "`false` *otherwise*.\n",
    "\n",
    "**Example 1:**\n",
    "\n",
    "    Input: s = \"A man, a plan, a canal: Panama\"\n",
    "    Output: true\n",
    "    Explanation: \"amanaplanacanalpanama\" is a palindrome.\n",
    "\n",
    "**Example 2:**\n",
    "\n",
    "    Input: s = \"race a car\"\n",
    "    Output: false\n",
    "    Explanation: \"raceacar\" is not a palindrome.\n",
    "\n",
    "**Example 3:**\n",
    "\n",
    "    Input: s = \" \"\n",
    "    Output: true\n",
    "    Explanation: s is an empty string \"\" after removing non-alphanumeric characters.\n",
    "    Since an empty string reads the same forward and backward, it is a palindrome.\n",
    "\n",
    "**Constraints:**\n",
    "\n",
    "- `1 <= s.length <= 2 * 10`<sup>`5`</sup>\n",
    "- `s` consists only of printable ASCII characters."
   ]
  },
  {
   "cell_type": "markdown",
   "metadata": {},
   "source": [
    "#### Brute Force - O(n), O(n)"
   ]
  },
  {
   "cell_type": "code",
   "execution_count": 59,
   "metadata": {},
   "outputs": [
    {
     "name": "stdout",
     "output_type": "stream",
     "text": [
      "True\n",
      "False\n",
      "True\n"
     ]
    }
   ],
   "source": [
    "class Solution:\n",
    "    def isPalindrome(self, s: str) -> bool:\n",
    "\n",
    "        # Normalize the string\n",
    "        normalized_s = \"\".join(\n",
    "\n",
    "            # Convert all characters to lowercase\n",
    "            char.lower() for char in s\n",
    "\n",
    "            # Join characters that are alphanumeric\n",
    "            if char.isalnum()\n",
    "        )\n",
    "\n",
    "        # Return True if the normalized string is equal to its reverse\n",
    "        return normalized_s == normalized_s[::-1]\n",
    "\n",
    "\n",
    "solution = Solution()\n",
    "print(solution.isPalindrome(s=\"A man, a plan, a canal: Panama\"))\n",
    "print(solution.isPalindrome(s=\"race a car\"))\n",
    "print(solution.isPalindrome(s=\" \"))"
   ]
  },
  {
   "cell_type": "markdown",
   "metadata": {},
   "source": [
    "#### Two Pointers - O(n), O(1)"
   ]
  },
  {
   "cell_type": "code",
   "execution_count": 13,
   "metadata": {},
   "outputs": [
    {
     "name": "stdout",
     "output_type": "stream",
     "text": [
      "True\n",
      "False\n",
      "True\n"
     ]
    }
   ],
   "source": [
    "class Solution:\n",
    "    def isPalindrome(self, s: str) -> bool:\n",
    "\n",
    "        # Check if a character is alphanumeric\n",
    "        def alpha_num(c: str) -> bool:\n",
    "\n",
    "            # Return True if the character is a letter or a digit\n",
    "            return (\n",
    "                ord(\"A\") <= ord(c) <= ord(\"Z\")\n",
    "                or ord(\"a\") <= ord(c) <= ord(\"z\")\n",
    "                or ord(\"0\") <= ord(c) <= ord(\"9\")\n",
    "            )\n",
    "\n",
    "        # Loop through the given string using two pointers from the left and right\n",
    "        left, right = 0, len(s) - 1\n",
    "        while left < right:\n",
    "\n",
    "            # Move the pointers closer to the center until an alphanumeric character is found\n",
    "            while left < right and not alpha_num(s[left]):\n",
    "                left += 1\n",
    "            while left < right and not alpha_num(s[right]):\n",
    "                right -= 1\n",
    "\n",
    "            # Return False if the characters at the left and right pointers are not equal\n",
    "            if s[left].lower() != s[right].lower():\n",
    "                return False\n",
    "\n",
    "            # Move the pointers closer to the center\n",
    "            left += 1\n",
    "            right -= 1\n",
    "\n",
    "        # Return True if all characters match\n",
    "        return True\n",
    "\n",
    "\n",
    "solution = Solution()\n",
    "print(solution.isPalindrome(s=\"A man, a plan, a canal: Panama\"))\n",
    "print(solution.isPalindrome(s=\"race a car\"))\n",
    "print(solution.isPalindrome(s=\" \"))"
   ]
  },
  {
   "cell_type": "markdown",
   "metadata": {},
   "source": [
    "### 170. Two Sum III - Data structure design\n",
    "\n",
    "Design a data structure that accepts a stream of integers and checks if\n",
    "it has a pair of integers that sum up to a particular value.\n",
    "\n",
    "Implement the `TwoSum` class:\n",
    "\n",
    "- `TwoSum()` Initializes the `TwoSum` object, with an empty array\n",
    "    initially.\n",
    "- `void add(int number)` Adds `number` to the data structure.\n",
    "- `boolean find(int value)` Returns `true` if there exists any pair of\n",
    "    numbers whose sum is equal to `value`, otherwise, it returns\n",
    "    `false`.\n",
    "\n",
    "**Example 1:**\n",
    "\n",
    "    Input\n",
    "    [\"TwoSum\", \"add\", \"add\", \"add\", \"find\", \"find\"]\n",
    "    [[], [1], [3], [5], [4], [7]]\n",
    "    Output\n",
    "    [null, null, null, null, true, false]\n",
    "\n",
    "    Explanation\n",
    "    TwoSum twoSum = new TwoSum();\n",
    "    twoSum.add(1);   // [] --> [1]\n",
    "    twoSum.add(3);   // [1] --> [1,3]\n",
    "    twoSum.add(5);   // [1,3] --> [1,3,5]\n",
    "    twoSum.find(4);  // 1 + 3 = 4, return true\n",
    "    twoSum.find(7);  // No two integers sum up to 7, return false\n",
    "\n",
    "**Constraints:**\n",
    "\n",
    "- `-10^5 <= number <= 10^5`\n",
    "- `-2^31 <= value <= 2^31 - 1`\n",
    "- At most `5 * 10^4` calls will be made to `add` and `find`."
   ]
  },
  {
   "cell_type": "markdown",
   "metadata": {},
   "source": [
    "### 121. Best Time to Buy and Sell Stock\n",
    "\n",
    "You are given an array `prices` where `prices[i]` is the price of a\n",
    "given stock on the `i`<sup>`th`</sup> day.\n",
    "\n",
    "You want to maximize your profit by choosing a **single day** to buy one\n",
    "stock and choosing a **different day in the future** to sell that stock.\n",
    "\n",
    "Return *the maximum profit you can achieve from this transaction*. If\n",
    "you cannot achieve any profit, return `0`.\n",
    "\n",
    "**Example 1:**\n",
    "\n",
    "    Input: prices = [7,1,5,3,6,4]\n",
    "    Output: 5\n",
    "    Explanation: Buy on day 2 (price = 1) and sell on day 5 (price = 6), profit = 6-1 = 5.\n",
    "    Note that buying on day 2 and selling on day 1 is not allowed because you must buy before you sell.\n",
    "\n",
    "**Example 2:**\n",
    "\n",
    "    Input: prices = [7,6,4,3,1]\n",
    "    Output: 0\n",
    "    Explanation: In this case, no transactions are done and the max profit = 0.\n",
    "\n",
    "**Constraints:**\n",
    "\n",
    "- `1 <= prices.length <= 10`<sup>`5`</sup>\n",
    "- `0 <= prices[i] <= 10`<sup>`4`</sup>"
   ]
  },
  {
   "cell_type": "markdown",
   "metadata": {},
   "source": [
    "#### Brute Force - O(n^2), O(1)"
   ]
  },
  {
   "cell_type": "code",
   "execution_count": 60,
   "metadata": {},
   "outputs": [
    {
     "name": "stdout",
     "output_type": "stream",
     "text": [
      "5\n",
      "0\n"
     ]
    }
   ],
   "source": [
    "class Solution:\n",
    "    def maxProfit(self, prices: list[int]) -> int:\n",
    "\n",
    "        # Initialize the maximum profit to zero\n",
    "        max_profit = 0\n",
    "\n",
    "        # Loop through each day as the buying day\n",
    "        num_days = len(prices)\n",
    "        for buy_day in range(num_days):\n",
    "\n",
    "            # Loop through each subsequent day as the selling day\n",
    "            for sell_day in range(buy_day + 1, num_days):\n",
    "\n",
    "                # Calculate the potential profit for the current pair of days\n",
    "                potential_profit = prices[sell_day] - prices[buy_day]\n",
    "\n",
    "                # Update the maximum profit if the current potential profit is higher\n",
    "                max_profit = max(potential_profit, max_profit)\n",
    "\n",
    "        # Return the maximum profit\n",
    "        return max_profit\n",
    "\n",
    "\n",
    "solution = Solution()\n",
    "print(solution.maxProfit(prices=[7, 1, 5, 3, 6, 4]))\n",
    "print(solution.maxProfit(prices=[7, 6, 4, 3, 1]))"
   ]
  },
  {
   "cell_type": "markdown",
   "metadata": {},
   "source": [
    "#### Sliding Window - O(n), O(1)"
   ]
  },
  {
   "cell_type": "code",
   "execution_count": 15,
   "metadata": {},
   "outputs": [
    {
     "name": "stdout",
     "output_type": "stream",
     "text": [
      "5\n",
      "0\n"
     ]
    }
   ],
   "source": [
    "class Solution:\n",
    "    def maxProfit(self, prices: list[int]) -> int:\n",
    "\n",
    "        # Initialize the minimum price to the first price in 'prices'\n",
    "        min_price = prices[0]\n",
    "        \n",
    "        # Initialize the maximum profit to zero\n",
    "        max_profit = 0\n",
    "\n",
    "        # Loop through the 'prices' starting from the second day\n",
    "        for price in prices[1:]:\n",
    "\n",
    "            # Update the minimum price if the current price is lower\n",
    "            min_price = min(min_price, price)\n",
    "\n",
    "            # Calculate the potential profit\n",
    "            profit = price - min_price\n",
    "\n",
    "            # Update the maximum profit if the potential profit is higher\n",
    "            max_profit = max(max_profit, profit)\n",
    "\n",
    "        # Return the maximum profit\n",
    "        return max_profit\n",
    "\n",
    "\n",
    "solution = Solution()\n",
    "print(solution.maxProfit(prices=[7, 1, 5, 3, 6, 4]))\n",
    "print(solution.maxProfit(prices=[7, 6, 4, 3, 1]))"
   ]
  },
  {
   "cell_type": "markdown",
   "metadata": {},
   "source": [
    "### 20. Valid Parentheses\n",
    "\n",
    "Given a string `s` containing just the characters `'('`, `')'`, `'{'`,\n",
    "`'}'`, `'['` and `']'`, determine if the input string is valid.\n",
    "\n",
    "An input string is valid if:\n",
    "\n",
    "1. Open brackets must be closed by the same type of brackets.\n",
    "2. Open brackets must be closed in the correct order.\n",
    "3. Every close bracket has a corresponding open bracket of the same\n",
    "    type.\n",
    "\n",
    "**Example 1:**\n",
    "\n",
    "    Input: s = \"()\"\n",
    "    Output: true\n",
    "\n",
    "**Example 2:**\n",
    "\n",
    "    Input: s = \"()[]{}\"\n",
    "    Output: true\n",
    "\n",
    "**Example 3:**\n",
    "\n",
    "    Input: s = \"(]\"\n",
    "    Output: false\n",
    "\n",
    "**Constraints:**\n",
    "\n",
    "- `1 <= s.length <= 10`<sup>`4`</sup>\n",
    "- `s` consists of parentheses only `'()[]{}'`."
   ]
  },
  {
   "cell_type": "markdown",
   "metadata": {},
   "source": [
    "#### Brute Force - O(n^2), O(n)"
   ]
  },
  {
   "cell_type": "code",
   "execution_count": 16,
   "metadata": {},
   "outputs": [
    {
     "name": "stdout",
     "output_type": "stream",
     "text": [
      "True\n",
      "True\n",
      "False\n"
     ]
    }
   ],
   "source": [
    "class Solution:\n",
    "    def isValid(self, s: str) -> bool:\n",
    "\n",
    "        # Define a list of matching parentheses pairs\n",
    "        matching_parentheses = [\"()\", \"{}\", \"[]\"]\n",
    "\n",
    "        # Loop through the string until no more pairs are found\n",
    "        while any(pair in s for pair in matching_parentheses):\n",
    "\n",
    "            # Replace each pair of matching parentheses with an empty string\n",
    "            s = s.replace(\"()\", \"\").replace(\"{}\", \"\").replace(\"[]\", \"\")\n",
    "\n",
    "        # Return True if the string is empty after all replacements\n",
    "        return not s\n",
    "\n",
    "\n",
    "solution = Solution()\n",
    "print(solution.isValid(s=\"()\"))\n",
    "print(solution.isValid(s=\"()[]{}\"))\n",
    "print(solution.isValid(s=\"(]\"))"
   ]
  },
  {
   "cell_type": "markdown",
   "metadata": {},
   "source": [
    "#### Recursion - O(n^2), O(n)"
   ]
  },
  {
   "cell_type": "code",
   "execution_count": 62,
   "metadata": {},
   "outputs": [
    {
     "name": "stdout",
     "output_type": "stream",
     "text": [
      "True\n",
      "True\n",
      "False\n"
     ]
    }
   ],
   "source": [
    "class Solution:\n",
    "    def isValid(self, s: str) -> bool:\n",
    "        if not s:\n",
    "            return True\n",
    "\n",
    "        length = len(s)\n",
    "        index = 0\n",
    "        matching_parentheses = [(\"(\", \")\"), (\"{\", \"}\"), (\"[\", \"]\")]\n",
    "\n",
    "        while index < length - 1:\n",
    "            for open_paren, close_paren in matching_parentheses:\n",
    "                if s[index] == open_paren and s[index + 1] == close_paren:\n",
    "                    new_string = s[:index] + s[index + 2:]\n",
    "                    return self.isValid(new_string)\n",
    "            index += 1\n",
    "\n",
    "        return False\n",
    "\n",
    "\n",
    "solution = Solution()\n",
    "print(solution.isValid(s=\"()\"))\n",
    "print(solution.isValid(s=\"()[]{}\"))\n",
    "print(solution.isValid(s=\"(]\"))"
   ]
  },
  {
   "cell_type": "markdown",
   "metadata": {},
   "source": [
    "#### Stack - O(n), O(n)"
   ]
  },
  {
   "cell_type": "code",
   "execution_count": 18,
   "metadata": {},
   "outputs": [
    {
     "name": "stdout",
     "output_type": "stream",
     "text": [
      "True\n",
      "True\n",
      "False\n"
     ]
    }
   ],
   "source": [
    "class Solution:\n",
    "    def isValid(self, s: str) -> bool:\n",
    "        stack: list[str] = []\n",
    "        matching_parentheses = {\")\": \"(\", \"}\": \"{\", \"]\": \"[\"}\n",
    "\n",
    "        for char in s:\n",
    "            if char in matching_parentheses:\n",
    "                if not stack or stack.pop() != matching_parentheses[char]:\n",
    "                    return False\n",
    "            else:\n",
    "                stack.append(char)\n",
    "\n",
    "        return not stack\n",
    "\n",
    "\n",
    "solution = Solution()\n",
    "print(solution.isValid(s=\"()\"))\n",
    "print(solution.isValid(s=\"()[]{}\"))\n",
    "print(solution.isValid(s=\"(]\"))"
   ]
  },
  {
   "cell_type": "markdown",
   "metadata": {},
   "source": [
    "### 704. Binary Search\n",
    "\n",
    "Given an array of integers `nums` which is sorted in ascending order,\n",
    "and an integer `target`, write a function to search `target` in `nums`.\n",
    "If `target` exists, then return its index. Otherwise, return `-1`.\n",
    "\n",
    "You must write an algorithm with `O(log n)` runtime complexity.\n",
    "\n",
    "**Example 1:**\n",
    "\n",
    "    Input: nums = [-1,0,3,5,9,12], target = 9\n",
    "    Output: 4\n",
    "    Explanation: 9 exists in nums and its index is 4\n",
    "\n",
    "**Example 2:**\n",
    "\n",
    "    Input: nums = [-1,0,3,5,9,12], target = 2\n",
    "    Output: -1\n",
    "    Explanation: 2 does not exist in nums so return -1\n",
    "\n",
    "**Constraints:**\n",
    "\n",
    "- `1 <= nums.length <= 10`<sup>`4`</sup>\n",
    "- `-10`<sup>`4`</sup>`< nums[i], target < 10`<sup>`4`</sup>\n",
    "- All the integers in `nums` are **unique**.\n",
    "- `nums` is sorted in ascending order."
   ]
  },
  {
   "cell_type": "markdown",
   "metadata": {},
   "source": [
    "#### Two Pointers - O(log n), O(1)"
   ]
  },
  {
   "cell_type": "code",
   "execution_count": 19,
   "metadata": {},
   "outputs": [
    {
     "name": "stdout",
     "output_type": "stream",
     "text": [
      "4\n",
      "-1\n"
     ]
    }
   ],
   "source": [
    "class Solution:\n",
    "    def search(self, nums: list[int], target: int) -> int:\n",
    "        left, right = 0, len(nums) - 1\n",
    "\n",
    "        while left <= right:\n",
    "            mid = (left + right) // 2\n",
    "\n",
    "            if nums[mid] == target:\n",
    "                return mid\n",
    "\n",
    "            left, right = (mid + 1, right) if nums[mid] < target else (left, mid - 1)\n",
    "\n",
    "        return -1\n",
    "\n",
    "\n",
    "solution = Solution()\n",
    "print(solution.search([-1, 0, 3, 5, 9, 12], target=9))\n",
    "print(solution.search([-1, 0, 3, 5, 9, 12], target=2))"
   ]
  },
  {
   "cell_type": "markdown",
   "metadata": {},
   "source": [
    "#### Recursion - O(log n), O(1)"
   ]
  },
  {
   "cell_type": "code",
   "execution_count": 20,
   "metadata": {},
   "outputs": [
    {
     "name": "stdout",
     "output_type": "stream",
     "text": [
      "4\n",
      "-1\n"
     ]
    }
   ],
   "source": [
    "class Solution:\n",
    "    def search(self, nums: list[int], target: int) -> int:\n",
    "        def binary_search(left: int, right: int) -> int:\n",
    "            if left > right:\n",
    "                return -1\n",
    "            mid = (left + right) // 2\n",
    "\n",
    "            if nums[mid] == target:\n",
    "                return mid\n",
    "\n",
    "            return (\n",
    "                binary_search(mid + 1, right)\n",
    "                if nums[mid] < target\n",
    "                else binary_search(left, mid - 1)\n",
    "            )\n",
    "\n",
    "        return binary_search(0, len(nums) - 1)\n",
    "\n",
    "\n",
    "solution = Solution()\n",
    "print(solution.search([-1, 0, 3, 5, 9, 12], target=9))\n",
    "print(solution.search([-1, 0, 3, 5, 9, 12], target=2))"
   ]
  },
  {
   "cell_type": "markdown",
   "metadata": {},
   "source": [
    "#### Exponential Search - O(log n), O(1)"
   ]
  },
  {
   "cell_type": "code",
   "execution_count": 21,
   "metadata": {},
   "outputs": [
    {
     "name": "stdout",
     "output_type": "stream",
     "text": [
      "4\n",
      "-1\n"
     ]
    }
   ],
   "source": [
    "class Solution:\n",
    "    def search(self, nums: list[int], target: int) -> int:\n",
    "        if nums[0] == target:\n",
    "            return 0\n",
    "\n",
    "        n = len(nums)\n",
    "        bound = 1\n",
    "        while bound < n and nums[bound] < target:\n",
    "            bound *= 2\n",
    "\n",
    "        left = bound // 2\n",
    "        right = min(bound, n - 1)\n",
    "\n",
    "        def binary_search(left: int, right: int):\n",
    "            while left <= right:\n",
    "                mid = (left + right) // 2\n",
    "                if nums[mid] == target:\n",
    "                    return mid\n",
    "\n",
    "                left, right = (\n",
    "                    (mid + 1, right) if nums[mid] < target else (left, mid - 1)\n",
    "                )\n",
    "\n",
    "            return -1\n",
    "\n",
    "        return binary_search(left, right)\n",
    "\n",
    "\n",
    "solution = Solution()\n",
    "print(solution.search([-1, 0, 3, 5, 9, 12], target=9))\n",
    "print(solution.search([-1, 0, 3, 5, 9, 12], target=2))"
   ]
  },
  {
   "cell_type": "markdown",
   "metadata": {},
   "source": [
    "### 206. Reverse Linked List\n",
    "\n",
    "Given the `head` of a singly linked list, reverse the list, and return\n",
    "*the reversed list*.\n",
    "\n",
    "**Example 1:**\n",
    "\n",
    "<img src=\"https://assets.leetcode.com/uploads/2021/02/19/rev1ex1.jpg\"\n",
    "style=\"width: 542px; height: 222px;\" />\n",
    "\n",
    "    Input: head = [1,2,3,4,5]\n",
    "    Output: [5,4,3,2,1]\n",
    "\n",
    "**Example 2:**\n",
    "\n",
    "<img src=\"https://assets.leetcode.com/uploads/2021/02/19/rev1ex2.jpg\"\n",
    "style=\"width: 182px; height: 222px;\" />\n",
    "\n",
    "    Input: head = [1,2]\n",
    "    Output: [2,1]\n",
    "\n",
    "**Example 3:**\n",
    "\n",
    "    Input: head = []\n",
    "    Output: []\n",
    "\n",
    "**Constraints:**\n",
    "\n",
    "- The number of nodes in the list is the range `[0, 5000]`.\n",
    "- `-5000 <= Node.val <= 5000`\n",
    "\n",
    "**Follow up:** A linked list can be reversed either iteratively or\n",
    "recursively. Could you implement both?"
   ]
  },
  {
   "cell_type": "code",
   "execution_count": 22,
   "metadata": {},
   "outputs": [],
   "source": [
    "from typing import Optional\n",
    "\n",
    "\n",
    "# Definition for singly-linked list.\n",
    "class ListNode:\n",
    "    def __init__(\n",
    "        self,\n",
    "        val: int = 0,\n",
    "        nextNode: \"Optional[ListNode]\" = None,\n",
    "    ) -> None:\n",
    "        self.val: int = val\n",
    "        self.next: Optional[ListNode] = nextNode\n",
    "\n",
    "\n",
    "# Helper function to convert list to linked list\n",
    "def list_to_linked_list(lst: list[int]) -> Optional[ListNode]:\n",
    "    dummy = ListNode()\n",
    "    current = dummy\n",
    "    for value in lst:\n",
    "        current.next = ListNode(value)\n",
    "        current = current.next\n",
    "    return dummy.next\n",
    "\n",
    "\n",
    "# Helper function to convert linked list to list\n",
    "def linked_list_to_list(node: Optional[ListNode]) -> list[int]:\n",
    "    result: list[int] = []\n",
    "    while node:\n",
    "        result.append(node.val)\n",
    "        node = node.next\n",
    "    return result"
   ]
  },
  {
   "cell_type": "markdown",
   "metadata": {},
   "source": [
    "#### Iterative - O(n), O(1)"
   ]
  },
  {
   "cell_type": "code",
   "execution_count": 23,
   "metadata": {},
   "outputs": [
    {
     "name": "stdout",
     "output_type": "stream",
     "text": [
      "[5, 4, 3, 2, 1]\n",
      "[2, 1]\n",
      "[]\n"
     ]
    }
   ],
   "source": [
    "class Solution:\n",
    "    def reverseList(self, head: Optional[ListNode]) -> Optional[ListNode]:\n",
    "        node = None\n",
    "\n",
    "        while head:\n",
    "            temp = head.next\n",
    "            head.next = node\n",
    "            node = head\n",
    "            head = temp\n",
    "\n",
    "        return node\n",
    "\n",
    "\n",
    "solution = Solution()\n",
    "print(linked_list_to_list(solution.reverseList(list_to_linked_list([1, 2, 3, 4, 5]))))\n",
    "print(linked_list_to_list(solution.reverseList(list_to_linked_list([1, 2]))))\n",
    "print(linked_list_to_list(solution.reverseList(list_to_linked_list([]))))"
   ]
  },
  {
   "cell_type": "markdown",
   "metadata": {},
   "source": [
    "#### Recursive - O(n), O(n)"
   ]
  },
  {
   "cell_type": "code",
   "execution_count": 24,
   "metadata": {},
   "outputs": [
    {
     "name": "stdout",
     "output_type": "stream",
     "text": [
      "[5, 4, 3, 2, 1]\n",
      "[2, 1]\n",
      "[]\n"
     ]
    }
   ],
   "source": [
    "class Solution:\n",
    "    def reverseList(self, head: Optional[ListNode]) -> Optional[ListNode]:\n",
    "        if not head or not head.next:\n",
    "            return head\n",
    "\n",
    "        new_head = self.reverseList(head.next)\n",
    "        head.next.next = head\n",
    "        head.next = None\n",
    "        return new_head\n",
    "\n",
    "\n",
    "solution = Solution()\n",
    "print(linked_list_to_list(solution.reverseList(list_to_linked_list([1, 2, 3, 4, 5]))))\n",
    "print(linked_list_to_list(solution.reverseList(list_to_linked_list([1, 2]))))\n",
    "print(linked_list_to_list(solution.reverseList(list_to_linked_list([]))))"
   ]
  },
  {
   "cell_type": "markdown",
   "metadata": {},
   "source": [
    "### 21. Merge Two Sorted Lists\n",
    "\n",
    "You are given the heads of two sorted linked lists `list1` and `list2`.\n",
    "\n",
    "Merge the two lists into one **sorted** list. The list should be made by\n",
    "splicing together the nodes of the first two lists.\n",
    "\n",
    "Return *the head of the merged linked list*.\n",
    "\n",
    "**Example 1:**\n",
    "\n",
    "<img src=\"https://assets.leetcode.com/uploads/2020/10/03/merge_ex1.jpg\"\n",
    "style=\"width: 662px; height: 302px;\" />\n",
    "\n",
    "    Input: list1 = [1,2,4], list2 = [1,3,4]\n",
    "    Output: [1,1,2,3,4,4]\n",
    "\n",
    "**Example 2:**\n",
    "\n",
    "    Input: list1 = [], list2 = []\n",
    "    Output: []\n",
    "\n",
    "**Example 3:**\n",
    "\n",
    "    Input: list1 = [], list2 = [0]\n",
    "    Output: [0]\n",
    "\n",
    "**Constraints:**\n",
    "\n",
    "- The number of nodes in both lists is in the range `[0, 50]`.\n",
    "- `-100 <= Node.val <= 100`\n",
    "- Both `list1` and `list2` are sorted in **non-decreasing** order."
   ]
  },
  {
   "cell_type": "markdown",
   "metadata": {},
   "source": [
    "#### Iterative - O(n), O(1)"
   ]
  },
  {
   "cell_type": "code",
   "execution_count": 25,
   "metadata": {},
   "outputs": [
    {
     "name": "stdout",
     "output_type": "stream",
     "text": [
      "[1, 1, 2, 3, 4, 4]\n",
      "[]\n",
      "[0]\n"
     ]
    }
   ],
   "source": [
    "class Solution:\n",
    "    def mergeTwoLists(\n",
    "        self, list1: Optional[ListNode], list2: Optional[ListNode]\n",
    "    ) -> Optional[ListNode]:\n",
    "        dummy = ListNode()\n",
    "        current = dummy\n",
    "\n",
    "        while list1 and list2:\n",
    "            if list1.val < list2.val:\n",
    "                current.next = list1\n",
    "                list1 = list1.next\n",
    "            else:\n",
    "                current.next = list2\n",
    "                list2 = list2.next\n",
    "            current = current.next\n",
    "\n",
    "        if list1:\n",
    "            current.next = list1\n",
    "        else:\n",
    "            current.next = list2\n",
    "\n",
    "        return dummy.next\n",
    "\n",
    "\n",
    "solution = Solution()\n",
    "print(linked_list_to_list(solution.mergeTwoLists(list_to_linked_list([1, 2, 4]), list_to_linked_list([1, 3, 4]))))\n",
    "print(linked_list_to_list(solution.mergeTwoLists(list_to_linked_list([]), list_to_linked_list([]))))\n",
    "print(linked_list_to_list(solution.mergeTwoLists(list_to_linked_list([]), list_to_linked_list([0]))))"
   ]
  },
  {
   "cell_type": "markdown",
   "metadata": {},
   "source": [
    "#### Recursive - O(n), O(n)"
   ]
  },
  {
   "cell_type": "code",
   "execution_count": 26,
   "metadata": {},
   "outputs": [
    {
     "name": "stdout",
     "output_type": "stream",
     "text": [
      "[1, 1, 2, 3, 4, 4]\n",
      "[]\n",
      "[0]\n"
     ]
    }
   ],
   "source": [
    "class Solution:\n",
    "    def mergeTwoLists(\n",
    "        self, list1: Optional[ListNode], list2: Optional[ListNode]\n",
    "    ) -> Optional[ListNode]:\n",
    "        if not list1:\n",
    "            return list2\n",
    "        if not list2:\n",
    "            return list1\n",
    "\n",
    "        if list1.val < list2.val:\n",
    "            list1.next = self.mergeTwoLists(list1.next, list2)\n",
    "            return list1\n",
    "        list2.next = self.mergeTwoLists(list1, list2.next)\n",
    "        return list2\n",
    "\n",
    "\n",
    "solution = Solution()\n",
    "print(linked_list_to_list(solution.mergeTwoLists(list_to_linked_list([1, 2, 4]), list_to_linked_list([1, 3, 4]))))\n",
    "print(linked_list_to_list(solution.mergeTwoLists(list_to_linked_list([]), list_to_linked_list([]))))\n",
    "print(linked_list_to_list(solution.mergeTwoLists(list_to_linked_list([]), list_to_linked_list([0]))))"
   ]
  },
  {
   "cell_type": "markdown",
   "metadata": {},
   "source": [
    "### 141. Linked List Cycle\n",
    "\n",
    "Given `head`, the head of a linked list, determine if the linked list\n",
    "has a cycle in it.\n",
    "\n",
    "There is a cycle in a linked list if there is some node in the list that\n",
    "can be reached again by continuously following the `next` pointer.\n",
    "Internally, `pos` is used to denote the index of the node\n",
    "that tail's `next` pointer is connected to. **Note that `pos` is not\n",
    "passed as a parameter**.\n",
    "\n",
    "Return `true` *if there is a cycle in the linked list*. Otherwise,\n",
    "return `false`.\n",
    "\n",
    "**Example 1:**\n",
    "\n",
    "<img\n",
    "src=\"https://assets.leetcode.com/uploads/2018/12/07/circularlinkedlist.png\"\n",
    "style=\"width: 300px; height: 97px; margin-top: 8px; margin-bottom: 8px;\" />\n",
    "\n",
    "    Input: head = [3,2,0,-4], pos = 1\n",
    "    Output: true\n",
    "    Explanation: There is a cycle in the linked list, where the tail connects to the 1st node (0-indexed).\n",
    "\n",
    "**Example 2:**\n",
    "\n",
    "<img\n",
    "src=\"https://assets.leetcode.com/uploads/2018/12/07/circularlinkedlist_test2.png\"\n",
    "style=\"width: 141px; height: 74px;\" />\n",
    "\n",
    "    Input: head = [1,2], pos = 0\n",
    "    Output: true\n",
    "    Explanation: There is a cycle in the linked list, where the tail connects to the 0th node.\n",
    "\n",
    "**Example 3:**\n",
    "\n",
    "<img\n",
    "src=\"https://assets.leetcode.com/uploads/2018/12/07/circularlinkedlist_test3.png\"\n",
    "style=\"width: 45px; height: 45px;\" />\n",
    "\n",
    "    Input: head = [1], pos = -1\n",
    "    Output: false\n",
    "    Explanation: There is no cycle in the linked list."
   ]
  },
  {
   "cell_type": "code",
   "execution_count": 27,
   "metadata": {},
   "outputs": [],
   "source": [
    "def list_to_linked_list_cycle(lst: list[int], pos: int) -> Optional[ListNode]:\n",
    "    nodes = [ListNode(val) for val in lst]\n",
    "\n",
    "    for i in range(1, len(lst)):\n",
    "        nodes[i - 1].next = nodes[i]\n",
    "\n",
    "    if pos != -1:\n",
    "        nodes[-1].next = nodes[pos]\n",
    "\n",
    "    return nodes[0]"
   ]
  },
  {
   "cell_type": "markdown",
   "metadata": {},
   "source": [
    "#### Arrays & Hashing - O(n), O(n)"
   ]
  },
  {
   "cell_type": "code",
   "execution_count": 28,
   "metadata": {},
   "outputs": [
    {
     "name": "stdout",
     "output_type": "stream",
     "text": [
      "True\n",
      "True\n",
      "False\n"
     ]
    }
   ],
   "source": [
    "class Solution:\n",
    "    def hasCycle(self, head: Optional[ListNode]) -> bool:\n",
    "        visited_nodes = {}\n",
    "        current_node = head\n",
    "\n",
    "        while current_node:\n",
    "            if current_node in visited_nodes:\n",
    "                return True\n",
    "            visited_nodes[current_node] = True\n",
    "            current_node = current_node.next\n",
    "\n",
    "        return False\n",
    "\n",
    "\n",
    "solution = Solution()\n",
    "print(solution.hasCycle(list_to_linked_list_cycle([3, 2, 0, -4], 1)))\n",
    "print(solution.hasCycle(list_to_linked_list_cycle([1, 2], 0)))\n",
    "print(solution.hasCycle(list_to_linked_list_cycle([1], -1)))"
   ]
  },
  {
   "cell_type": "markdown",
   "metadata": {},
   "source": [
    "#### Two Pointers - O(n), O(1)"
   ]
  },
  {
   "cell_type": "code",
   "execution_count": 29,
   "metadata": {},
   "outputs": [
    {
     "name": "stdout",
     "output_type": "stream",
     "text": [
      "True\n",
      "True\n",
      "False\n"
     ]
    }
   ],
   "source": [
    "class Solution:\n",
    "    def hasCycle(self, head: Optional[ListNode]) -> bool:\n",
    "        slow = head\n",
    "        fast = head\n",
    "\n",
    "        while slow and fast and fast.next:\n",
    "            slow = slow.next\n",
    "            fast = fast.next.next\n",
    "            if slow == fast:\n",
    "                return True\n",
    "\n",
    "        return False\n",
    "\n",
    "\n",
    "solution = Solution()\n",
    "print(solution.hasCycle(list_to_linked_list_cycle([3, 2, 0, -4], 1)))\n",
    "print(solution.hasCycle(list_to_linked_list_cycle([1, 2], 0)))\n",
    "print(solution.hasCycle(list_to_linked_list_cycle([1], -1)))"
   ]
  },
  {
   "cell_type": "markdown",
   "metadata": {},
   "source": [
    "### 226. Invert Binary Tree\n",
    "\n",
    "Given the `root` of a binary tree, invert the tree, and return *its\n",
    "root*.\n",
    "\n",
    "**Example 1:**\n",
    "\n",
    "<img\n",
    "src=\"https://assets.leetcode.com/uploads/2021/03/14/invert1-tree.jpg\"\n",
    "style=\"width: 500px; height: 165px;\" />\n",
    "\n",
    "    Input: root = [4,2,7,1,3,6,9]\n",
    "    Output: [4,7,2,9,6,3,1]\n",
    "\n",
    "**Example 2:**\n",
    "\n",
    "<img\n",
    "src=\"https://assets.leetcode.com/uploads/2021/03/14/invert2-tree.jpg\"\n",
    "style=\"width: 500px; height: 120px;\" />\n",
    "\n",
    "    Input: root = [2,1,3]\n",
    "    Output: [2,3,1]\n",
    "\n",
    "**Example 3:**\n",
    "\n",
    "    Input: root = []\n",
    "    Output: []\n",
    "\n",
    "**Constraints:**\n",
    "\n",
    "- The number of nodes in the tree is in the range `[0, 100]`.\n",
    "- `-100 <= Node.val <= 100`"
   ]
  },
  {
   "cell_type": "code",
   "execution_count": 30,
   "metadata": {},
   "outputs": [],
   "source": [
    "from collections import deque\n",
    "from typing import Optional\n",
    "\n",
    "\n",
    "class TreeNode:\n",
    "    def __init__(\n",
    "        self,\n",
    "        val: Optional[int] = 0,\n",
    "        left: Optional[\"TreeNode\"] = None,\n",
    "        right: Optional[\"TreeNode\"] = None,\n",
    "    ) -> None:\n",
    "        self.val = val\n",
    "        self.left = left\n",
    "        self.right = right\n",
    "\n",
    "\n",
    "def list_to_tree(values: list[Optional[int]]) -> Optional[TreeNode]:\n",
    "    if not values:\n",
    "        return None\n",
    "    root = TreeNode(values[0])\n",
    "    queue = [root]\n",
    "    i = 1\n",
    "    while i < len(values):\n",
    "        current = queue.pop(0)\n",
    "        if values[i] is not None:\n",
    "            current.left = TreeNode(values[i])\n",
    "            queue.append(current.left)\n",
    "        i += 1\n",
    "        if i < len(values) and values[i] is not None:\n",
    "            current.right = TreeNode(values[i])\n",
    "            queue.append(current.right)\n",
    "        i += 1\n",
    "    return root\n",
    "\n",
    "\n",
    "def tree_to_list(root: Optional[TreeNode]) -> list[Optional[int]]:\n",
    "\n",
    "    result: list[Optional[int]] = []\n",
    "    queue: deque[Optional[TreeNode]] = deque([root])\n",
    "\n",
    "    while queue:\n",
    "        current = queue.popleft()\n",
    "        if current:\n",
    "            result.append(current.val)\n",
    "            queue.append(current.left)\n",
    "            queue.append(current.right)\n",
    "        else:\n",
    "            result.append(None)\n",
    "\n",
    "    while result and result[-1] is None:\n",
    "        result.pop()\n",
    "\n",
    "    return result"
   ]
  },
  {
   "cell_type": "markdown",
   "metadata": {},
   "source": [
    "#### Iterative DFS - O(n), O(n)"
   ]
  },
  {
   "cell_type": "code",
   "execution_count": 31,
   "metadata": {},
   "outputs": [
    {
     "name": "stdout",
     "output_type": "stream",
     "text": [
      "[4, 7, 2, 9, 6, 3, 1]\n",
      "[2, 3, 1]\n",
      "[]\n"
     ]
    }
   ],
   "source": [
    "class Solution:\n",
    "    def invertTree(self, root: Optional[TreeNode]) -> Optional[TreeNode]:\n",
    "        if not root:\n",
    "            return None\n",
    "\n",
    "        stack = [root]\n",
    "\n",
    "        while stack:\n",
    "            current = stack.pop()\n",
    "            current.left, current.right = current.right, current.left\n",
    "\n",
    "            if current.left:\n",
    "                stack.append(current.left)\n",
    "            if current.right:\n",
    "                stack.append(current.right)\n",
    "\n",
    "        return root\n",
    "\n",
    "\n",
    "solution = Solution()\n",
    "print(tree_to_list(solution.invertTree(list_to_tree([4, 2, 7, 1, 3, 6, 9]))))\n",
    "print(tree_to_list(solution.invertTree(list_to_tree([2, 1, 3]))))\n",
    "print(tree_to_list(solution.invertTree(list_to_tree([]))))"
   ]
  },
  {
   "cell_type": "markdown",
   "metadata": {},
   "source": [
    "#### Iterative BFS - O(n), O(n)"
   ]
  },
  {
   "cell_type": "code",
   "execution_count": 32,
   "metadata": {},
   "outputs": [
    {
     "name": "stdout",
     "output_type": "stream",
     "text": [
      "[4, 7, 2, 9, 6, 3, 1]\n",
      "[2, 3, 1]\n",
      "[]\n"
     ]
    }
   ],
   "source": [
    "class Solution:\n",
    "    def invertTree(self, root: Optional[TreeNode]) -> Optional[TreeNode]:\n",
    "        if not root:\n",
    "            return None\n",
    "\n",
    "        queue = deque([root])\n",
    "\n",
    "        while queue:\n",
    "            current = queue.popleft()\n",
    "            current.left, current.right = current.right, current.left\n",
    "\n",
    "            if current.left:\n",
    "                queue.append(current.left)\n",
    "            if current.right:\n",
    "                queue.append(current.right)\n",
    "\n",
    "        return root\n",
    "\n",
    "\n",
    "solution = Solution()\n",
    "print(tree_to_list(solution.invertTree(list_to_tree([4, 2, 7, 1, 3, 6, 9]))))\n",
    "print(tree_to_list(solution.invertTree(list_to_tree([2, 1, 3]))))\n",
    "print(tree_to_list(solution.invertTree(list_to_tree([]))))"
   ]
  },
  {
   "cell_type": "markdown",
   "metadata": {},
   "source": [
    "#### Recursive DFS - O(n), O(n)"
   ]
  },
  {
   "cell_type": "code",
   "execution_count": 33,
   "metadata": {},
   "outputs": [
    {
     "name": "stdout",
     "output_type": "stream",
     "text": [
      "[4, 7, 2, 9, 6, 3, 1]\n",
      "[2, 3, 1]\n",
      "[]\n"
     ]
    }
   ],
   "source": [
    "class Solution:\n",
    "    def invertTree(self, root: Optional[TreeNode]) -> Optional[TreeNode]:\n",
    "        if not root:\n",
    "            return None\n",
    "\n",
    "        root.left, root.right = root.right, root.left\n",
    "        self.invertTree(root.left)\n",
    "        self.invertTree(root.right)\n",
    "\n",
    "        return root\n",
    "\n",
    "\n",
    "solution = Solution()\n",
    "print(tree_to_list(solution.invertTree(list_to_tree([4, 2, 7, 1, 3, 6, 9]))))\n",
    "print(tree_to_list(solution.invertTree(list_to_tree([2, 1, 3]))))\n",
    "print(tree_to_list(solution.invertTree(list_to_tree([]))))"
   ]
  },
  {
   "cell_type": "markdown",
   "metadata": {},
   "source": [
    "### 104. Maximum Depth of Binary Tree\n",
    "\n",
    "Given the `root` of a binary tree, return *its maximum depth*.\n",
    "\n",
    "A binary tree's **maximum depth** is the number of nodes along the\n",
    "longest path from the root node down to the farthest leaf node.\n",
    "\n",
    "**Example 1:**\n",
    "\n",
    "<img src=\"https://assets.leetcode.com/uploads/2020/11/26/tmp-tree.jpg\"\n",
    "style=\"width: 400px; height: 277px;\" />\n",
    "\n",
    "    Input: root = [3,9,20,null,null,15,7]\n",
    "    Output: 3\n",
    "\n",
    "**Example 2:**\n",
    "\n",
    "    Input: root = [1,null,2]\n",
    "    Output: 2\n",
    "\n",
    "**Constraints:**\n",
    "\n",
    "- The number of nodes in the tree is in the range\n",
    "    `[0, 10`<sup>`4`</sup>`]`.\n",
    "- `-100 <= Node.val <= 100`"
   ]
  },
  {
   "cell_type": "markdown",
   "metadata": {},
   "source": [
    "#### Iterative DFS - O(n), O(n)"
   ]
  },
  {
   "cell_type": "code",
   "execution_count": 34,
   "metadata": {},
   "outputs": [
    {
     "name": "stdout",
     "output_type": "stream",
     "text": [
      "3\n",
      "2\n"
     ]
    }
   ],
   "source": [
    "class Solution:\n",
    "    def maxDepth(self, root: Optional[TreeNode]) -> int:\n",
    "        stack: list[tuple[Optional[TreeNode], int]] = [(root, 1)]\n",
    "        max_depth = 0\n",
    "\n",
    "        while stack:\n",
    "            node, depth = stack.pop()\n",
    "            if node:\n",
    "                max_depth = max(max_depth, depth)\n",
    "                stack.append((node.left, depth + 1))\n",
    "                stack.append((node.right, depth + 1))\n",
    "\n",
    "        return max_depth\n",
    "\n",
    "\n",
    "solution = Solution()\n",
    "print(solution.maxDepth(list_to_tree([3, 9, 20, None, None, 15, 7])))\n",
    "print(solution.maxDepth(list_to_tree([1, None, 2])))"
   ]
  },
  {
   "cell_type": "markdown",
   "metadata": {},
   "source": [
    "#### Iterative BFS - O(n), O(n)"
   ]
  },
  {
   "cell_type": "code",
   "execution_count": 35,
   "metadata": {},
   "outputs": [
    {
     "name": "stdout",
     "output_type": "stream",
     "text": [
      "3\n",
      "2\n"
     ]
    }
   ],
   "source": [
    "class Solution:\n",
    "    def maxDepth(self, root: Optional[TreeNode]) -> int:\n",
    "        queue: deque[tuple[Optional[TreeNode], int]] = deque([(root, 1)])\n",
    "        max_depth = 0\n",
    "\n",
    "        while queue:\n",
    "            node, depth = queue.popleft()\n",
    "            if node:\n",
    "                max_depth = max(max_depth, depth)\n",
    "                queue.append((node.left, depth + 1))\n",
    "                queue.append((node.right, depth + 1))\n",
    "\n",
    "        return max_depth\n",
    "\n",
    "\n",
    "solution = Solution()\n",
    "print(solution.maxDepth(list_to_tree([3, 9, 20, None, None, 15, 7])))\n",
    "print(solution.maxDepth(list_to_tree([1, None, 2])))"
   ]
  },
  {
   "cell_type": "markdown",
   "metadata": {},
   "source": [
    "#### Recursive DFS - O(n), O(n)"
   ]
  },
  {
   "cell_type": "code",
   "execution_count": 36,
   "metadata": {},
   "outputs": [
    {
     "name": "stdout",
     "output_type": "stream",
     "text": [
      "3\n",
      "2\n"
     ]
    }
   ],
   "source": [
    "class Solution:\n",
    "    def maxDepth(self, root: Optional[TreeNode]) -> int:\n",
    "        return (\n",
    "            1 + max(self.maxDepth(root.left), self.maxDepth(root.right)) if root else 0\n",
    "        )\n",
    "\n",
    "\n",
    "solution = Solution()\n",
    "print(solution.maxDepth(list_to_tree([3, 9, 20, None, None, 15, 7])))\n",
    "print(solution.maxDepth(list_to_tree([1, None, 2])))"
   ]
  },
  {
   "cell_type": "markdown",
   "metadata": {},
   "source": [
    "### 100. Same Tree\n",
    "\n",
    "Given the roots of two binary trees `p` and `q`, write a function to\n",
    "check if they are the same or not.\n",
    "\n",
    "Two binary trees are considered the same if they are structurally\n",
    "identical, and the nodes have the same value.\n",
    "\n",
    "**Example 1:**\n",
    "\n",
    "<img src=\"https://assets.leetcode.com/uploads/2020/12/20/ex1.jpg\"\n",
    "style=\"width: 622px; height: 182px;\" />\n",
    "\n",
    "    Input: p = [1,2,3], q = [1,2,3]\n",
    "    Output: true\n",
    "\n",
    "**Example 2:**\n",
    "\n",
    "<img src=\"https://assets.leetcode.com/uploads/2020/12/20/ex2.jpg\"\n",
    "style=\"width: 382px; height: 182px;\" />\n",
    "\n",
    "    Input: p = [1,2], q = [1,null,2]\n",
    "    Output: false\n",
    "\n",
    "**Example 3:**\n",
    "\n",
    "<img src=\"https://assets.leetcode.com/uploads/2020/12/20/ex3.jpg\"\n",
    "style=\"width: 622px; height: 182px;\" />\n",
    "\n",
    "    Input: p = [1,2,1], q = [1,1,2]\n",
    "    Output: false\n",
    "\n",
    "**Constraints:**\n",
    "\n",
    "- The number of nodes in both trees is in the range `[0, 100]`.\n",
    "- `-10`<sup>`4`</sup>`<= Node.val <= 10`<sup>`4`</sup>"
   ]
  },
  {
   "cell_type": "markdown",
   "metadata": {},
   "source": [
    "#### Iterative DFS - O(n), O(n)"
   ]
  },
  {
   "cell_type": "code",
   "execution_count": 37,
   "metadata": {},
   "outputs": [
    {
     "name": "stdout",
     "output_type": "stream",
     "text": [
      "True\n",
      "False\n",
      "False\n"
     ]
    }
   ],
   "source": [
    "class Solution:\n",
    "    def isSameTree(self, p: Optional[TreeNode], q: Optional[TreeNode]) -> bool:\n",
    "        stack = [(p, q)]\n",
    "\n",
    "        while stack:\n",
    "            node1, node2 = stack.pop()\n",
    "\n",
    "            if not node1 and not node2:\n",
    "                continue\n",
    "            if not node1 or not node2 or node1.val != node2.val:\n",
    "                return False\n",
    "\n",
    "            stack.append((node1.right, node2.right))\n",
    "            stack.append((node1.left, node2.left))\n",
    "\n",
    "        return True\n",
    "\n",
    "\n",
    "solution = Solution()\n",
    "print(solution.isSameTree(list_to_tree([1, 2, 3]), list_to_tree([1, 2, 3])))\n",
    "print(solution.isSameTree(list_to_tree([1, 2]), list_to_tree([1, None, 2])))\n",
    "print(solution.isSameTree(list_to_tree([1, 2, 1]), list_to_tree([1, 1, 2])))"
   ]
  },
  {
   "cell_type": "markdown",
   "metadata": {},
   "source": [
    "#### Iterative BFS - O(n), O(n)"
   ]
  },
  {
   "cell_type": "code",
   "execution_count": 38,
   "metadata": {},
   "outputs": [
    {
     "name": "stdout",
     "output_type": "stream",
     "text": [
      "True\n",
      "False\n",
      "False\n"
     ]
    }
   ],
   "source": [
    "class Solution:\n",
    "    def isSameTree(self, p: Optional[TreeNode], q: Optional[TreeNode]) -> bool:\n",
    "        queue = deque([(p, q)])\n",
    "\n",
    "        while queue:\n",
    "            node1, node2 = queue.popleft()\n",
    "\n",
    "            if not node1 and not node2:\n",
    "                continue\n",
    "            if not node1 or not node2 or node1.val != node2.val:\n",
    "                return False\n",
    "\n",
    "            queue.append((node1.right, node2.right))\n",
    "            queue.append((node1.left, node2.left))\n",
    "\n",
    "        return True\n",
    "\n",
    "\n",
    "solution = Solution()\n",
    "print(solution.isSameTree(list_to_tree([1, 2, 3]), list_to_tree([1, 2, 3])))\n",
    "print(solution.isSameTree(list_to_tree([1, 2]), list_to_tree([1, None, 2])))\n",
    "print(solution.isSameTree(list_to_tree([1, 2, 1]), list_to_tree([1, 1, 2])))"
   ]
  },
  {
   "cell_type": "markdown",
   "metadata": {},
   "source": [
    "#### Recursive DFS - O(n), O(n)"
   ]
  },
  {
   "cell_type": "code",
   "execution_count": 39,
   "metadata": {},
   "outputs": [
    {
     "name": "stdout",
     "output_type": "stream",
     "text": [
      "True\n",
      "False\n",
      "False\n"
     ]
    }
   ],
   "source": [
    "class Solution:\n",
    "    def isSameTree(self, p: Optional[TreeNode], q: Optional[TreeNode]) -> bool:\n",
    "        return (\n",
    "            p == q\n",
    "            if not p or not q\n",
    "            else (\n",
    "                p.val == q.val\n",
    "                and self.isSameTree(p.left, q.left)\n",
    "                and self.isSameTree(p.right, q.right)\n",
    "            )\n",
    "        )\n",
    "\n",
    "\n",
    "solution = Solution()\n",
    "print(solution.isSameTree(list_to_tree([1, 2, 3]), list_to_tree([1, 2, 3])))\n",
    "print(solution.isSameTree(list_to_tree([1, 2]), list_to_tree([1, None, 2])))\n",
    "print(solution.isSameTree(list_to_tree([1, 2, 1]), list_to_tree([1, 1, 2])))"
   ]
  },
  {
   "cell_type": "markdown",
   "metadata": {},
   "source": [
    "### 572. Subtree of Another Tree\n",
    "\n",
    "Given the roots of two binary trees `root` and `subRoot`, return `true`\n",
    "if there is a subtree of `root` with the same structure and node values\n",
    "of`subRoot` and `false` otherwise.\n",
    "\n",
    "A subtree of a binary tree `tree` is a tree that consists of a node in\n",
    "`tree` and all of this node's descendants. The tree `tree` could also be\n",
    "considered as a subtree of itself.\n",
    "\n",
    "**Example 1:**\n",
    "\n",
    "<img\n",
    "src=\"https://assets.leetcode.com/uploads/2021/04/28/subtree1-tree.jpg\"\n",
    "style=\"width: 532px; height: 400px;\" />\n",
    "\n",
    "    Input: root = [3,4,5,1,2], subRoot = [4,1,2]\n",
    "    Output: true\n",
    "\n",
    "**Example 2:**\n",
    "\n",
    "<img\n",
    "src=\"https://assets.leetcode.com/uploads/2021/04/28/subtree2-tree.jpg\"\n",
    "style=\"width: 502px; height: 458px;\" />\n",
    "\n",
    "    Input: root = [3,4,5,1,2,null,null,null,null,0], subRoot = [4,1,2]\n",
    "    Output: false\n",
    "\n",
    "**Constraints:**\n",
    "\n",
    "- The number of nodes in the `root` tree is in the range `[1, 2000]`.\n",
    "- The number of nodes in the `subRoot` tree is in the range\n",
    "    `[1, 1000]`.\n",
    "- `-10`<sup>`4`</sup>`<= root.val <= 10`<sup>`4`</sup>\n",
    "- `-10`<sup>`4`</sup>`<= subRoot.val <= 10`<sup>`4`</sup>"
   ]
  },
  {
   "cell_type": "markdown",
   "metadata": {},
   "source": [
    "#### Recursive DFS - O(n), O(n)"
   ]
  },
  {
   "cell_type": "code",
   "execution_count": 40,
   "metadata": {},
   "outputs": [
    {
     "name": "stdout",
     "output_type": "stream",
     "text": [
      "True\n",
      "False\n"
     ]
    }
   ],
   "source": [
    "class Solution:\n",
    "    def isSubtree(self, root: Optional[TreeNode], subRoot: Optional[TreeNode]) -> bool:\n",
    "        return (\n",
    "            False\n",
    "            if not root\n",
    "            else self.isSameTree(root, subRoot)\n",
    "            or self.isSubtree(root.left, subRoot)\n",
    "            or self.isSubtree(root.right, subRoot)\n",
    "        )\n",
    "\n",
    "    def isSameTree(self, p: Optional[TreeNode], q: Optional[TreeNode]) -> bool:\n",
    "        return (\n",
    "            p == q\n",
    "            if not p or not q\n",
    "            else (\n",
    "                p.val == q.val\n",
    "                and self.isSameTree(p.left, q.left)\n",
    "                and self.isSameTree(p.right, q.right)\n",
    "            )\n",
    "        )\n",
    "\n",
    "\n",
    "solution = Solution()\n",
    "print(solution.isSubtree(list_to_tree([3, 4, 5, 1, 2]), list_to_tree([4, 1, 2])))\n",
    "print(solution.isSubtree(list_to_tree([3, 4, 5, 1, 2, None, None, None, None, 0]), list_to_tree([4, 1, 2])))"
   ]
  },
  {
   "cell_type": "markdown",
   "metadata": {},
   "source": [
    "### 543. Diameter of Binary Tree\n",
    "\n",
    "Given the `root` of a binary tree, return *the length of the\n",
    "**diameter** of the tree*.\n",
    "\n",
    "The **diameter** of a binary tree is the **length** of the longest path\n",
    "between any two nodes in a tree. This path may or may not pass through\n",
    "the `root`.\n",
    "\n",
    "The **length** of a path between two nodes is represented by the number\n",
    "of edges between them.\n",
    "\n",
    "**Example 1:**\n",
    "\n",
    "<img src=\"https://assets.leetcode.com/uploads/2021/03/06/diamtree.jpg\"\n",
    "style=\"width: 292px; height: 302px;\" />\n",
    "\n",
    "    Input: root = [1,2,3,4,5]\n",
    "    Output: 3\n",
    "    Explanation: 3 is the length of the path [4,2,1,3] or [5,2,1,3].\n",
    "\n",
    "**Example 2:**\n",
    "\n",
    "    Input: root = [1,2]\n",
    "    Output: 1\n",
    "\n",
    "**Constraints:**\n",
    "\n",
    "- The number of nodes in the tree is in the range\n",
    "    `[1, 10`<sup>`4`</sup>`]`.\n",
    "- `-100 <= Node.val <= 100`"
   ]
  },
  {
   "cell_type": "markdown",
   "metadata": {},
   "source": [
    "#### Iterative DFS - O(n), O(n)"
   ]
  },
  {
   "cell_type": "code",
   "execution_count": 41,
   "metadata": {},
   "outputs": [
    {
     "name": "stdout",
     "output_type": "stream",
     "text": [
      "3\n",
      "1\n"
     ]
    }
   ],
   "source": [
    "class Solution:\n",
    "    def diameterOfBinaryTree(self, root: Optional[TreeNode]) -> int:\n",
    "        stack: list[tuple[Optional[TreeNode], bool]] = [(root, False)]\n",
    "        depth: dict[Optional[TreeNode], int] = {}\n",
    "        diameter = 0\n",
    "\n",
    "        while stack:\n",
    "            node, visited = stack.pop()\n",
    "            if node:\n",
    "                if visited:\n",
    "                    left_depth = depth.get(node.left, 0)\n",
    "                    right_depth = depth.get(node.right, 0)\n",
    "                    depth[node] = max(left_depth, right_depth) + 1\n",
    "                    diameter = max(diameter, left_depth + right_depth)\n",
    "                else:\n",
    "                    stack.append((node, True))\n",
    "                    stack.append((node.left, False))\n",
    "                    stack.append((node.right, False))\n",
    "\n",
    "        return diameter\n",
    "\n",
    "\n",
    "solution = Solution()\n",
    "print(solution.diameterOfBinaryTree(list_to_tree([1, 2, 3, 4, 5])))\n",
    "print(solution.diameterOfBinaryTree(list_to_tree([1, 2])))"
   ]
  },
  {
   "cell_type": "markdown",
   "metadata": {},
   "source": [
    "#### Recursive DFS - O(n), O(n)"
   ]
  },
  {
   "cell_type": "code",
   "execution_count": 42,
   "metadata": {},
   "outputs": [
    {
     "name": "stdout",
     "output_type": "stream",
     "text": [
      "3\n",
      "1\n"
     ]
    }
   ],
   "source": [
    "class Solution:\n",
    "    def diameterOfBinaryTree(self, root: Optional[TreeNode]) -> int:\n",
    "        diameter = [0]\n",
    "\n",
    "        def depth(node: Optional[\"TreeNode\"]) -> int:\n",
    "            if not node:\n",
    "                return 0\n",
    "\n",
    "            left_depth = depth(node.left)\n",
    "            right_depth = depth(node.right)\n",
    "            diameter[0] = max(diameter[0], left_depth + right_depth)\n",
    "\n",
    "            return max(left_depth, right_depth) + 1\n",
    "\n",
    "        depth(root)\n",
    "        return diameter[0]\n",
    "\n",
    "\n",
    "solution = Solution()\n",
    "print(solution.diameterOfBinaryTree(list_to_tree([1, 2, 3, 4, 5])))\n",
    "print(solution.diameterOfBinaryTree(list_to_tree([1, 2])))"
   ]
  },
  {
   "cell_type": "markdown",
   "metadata": {},
   "source": [
    "### 110. Balanced Binary Tree\n",
    "\n",
    "Given a binary tree, determine if it is **height-balanced**.\n",
    "\n",
    "A **height-balanced** binary tree is a binary tree in which the depth of the two subtrees of every node never differs by more than one.\n",
    "\n",
    "**Example 1:**\n",
    "\n",
    "<img src=\"https://assets.leetcode.com/uploads/2020/10/06/balance_1.jpg\"\n",
    "style=\"width: 342px; height: 221px;\" />\n",
    "\n",
    "    Input: root = [3,9,20,null,null,15,7]\n",
    "    Output: true\n",
    "\n",
    "**Example 2:**\n",
    "\n",
    "<img src=\"https://assets.leetcode.com/uploads/2020/10/06/balance_2.jpg\"\n",
    "style=\"width: 452px; height: 301px;\" />\n",
    "\n",
    "    Input: root = [1,2,2,3,3,null,null,4,4]\n",
    "    Output: false\n",
    "\n",
    "**Example 3:**\n",
    "\n",
    "    Input: root = []\n",
    "    Output: true\n",
    "\n",
    "**Constraints:**\n",
    "\n",
    "- The number of nodes in the tree is in the range `[0, 5000]`.\n",
    "- `-10`<sup>`4`</sup>`<= Node.val <= 10`<sup>`4`</sup>"
   ]
  },
  {
   "cell_type": "markdown",
   "metadata": {},
   "source": [
    "#### Recursive DFS - O(n), O(h)"
   ]
  },
  {
   "cell_type": "code",
   "execution_count": 43,
   "metadata": {},
   "outputs": [
    {
     "name": "stdout",
     "output_type": "stream",
     "text": [
      "True\n",
      "False\n",
      "True\n"
     ]
    }
   ],
   "source": [
    "class Solution:\n",
    "    def isBalanced(self, root: Optional[TreeNode]) -> bool:\n",
    "        def dfs(node: Optional[TreeNode]) -> int:\n",
    "            if not node:\n",
    "                return 0\n",
    "            left_height, right_height = dfs(node.left), dfs(node.right)\n",
    "            if (\n",
    "                left_height == -1\n",
    "                or right_height == -1\n",
    "                or abs(left_height - right_height) > 1\n",
    "            ):\n",
    "                return -1\n",
    "            return max(left_height, right_height) + 1\n",
    "\n",
    "        return dfs(root) != -1\n",
    "\n",
    "\n",
    "solution = Solution()\n",
    "print(solution.isBalanced(list_to_tree([3, 9, 20, None, None, 15, 7])))\n",
    "print(solution.isBalanced(list_to_tree([1, 2, 2, 3, 3, None, None, 4, 4])))\n",
    "print(solution.isBalanced(list_to_tree([])))"
   ]
  },
  {
   "cell_type": "markdown",
   "metadata": {},
   "source": [
    "### 703. Kth Largest Element in a Stream\n",
    "\n",
    "Design a class to find the `k`<sup>`th`</sup> largest element in a\n",
    "stream. Note that it is the `k`<sup>`th`</sup> largest element in the\n",
    "sorted order, not the `k`<sup>`th`</sup> distinct element.\n",
    "\n",
    "Implement `KthLargest` class:\n",
    "\n",
    "- `KthLargest(int k, int[] nums)` Initializes the object with the\n",
    "    integer `k` and the stream of integers `nums`.\n",
    "- `int add(int val)` Appends the integer `val` to the stream and\n",
    "    returns the element representing the `k`<sup>`th`</sup> largest\n",
    "    element in the stream.\n",
    "\n",
    "**Example 1:**\n",
    "\n",
    "    Input\n",
    "    [\"KthLargest\", \"add\", \"add\", \"add\", \"add\", \"add\"]\n",
    "    [[3, [4, 5, 8, 2]], [3], [5], [10], [9], [4]]\n",
    "    Output\n",
    "    [null, 4, 5, 5, 8, 8]\n",
    "\n",
    "    Explanation\n",
    "    KthLargest kthLargest = new KthLargest(3, [4, 5, 8, 2]);\n",
    "    kthLargest.add(3);   // return 4\n",
    "    kthLargest.add(5);   // return 5\n",
    "    kthLargest.add(10);  // return 5\n",
    "    kthLargest.add(9);   // return 8\n",
    "    kthLargest.add(4);   // return 8\n",
    "\n",
    "**Constraints:**\n",
    "\n",
    "- `1 <= k <= 10`<sup>`4`</sup>\n",
    "- `0 <= nums.length <= 10`<sup>`4`</sup>\n",
    "- `-10`<sup>`4`</sup>`<= nums[i] <= 10`<sup>`4`</sup>\n",
    "- `-10`<sup>`4`</sup>`<= val <= 10`<sup>`4`</sup>\n",
    "- At most `10`<sup>`4`</sup> calls will be made to `add`.\n",
    "- It is guaranteed that there will be at least `k` elements in the\n",
    "    array when you search for the `k`<sup>`th`</sup> element."
   ]
  },
  {
   "cell_type": "markdown",
   "metadata": {},
   "source": [
    "#### Sorting - O(n log n), O(n); O(n log n), O(n)"
   ]
  },
  {
   "cell_type": "code",
   "execution_count": 44,
   "metadata": {},
   "outputs": [
    {
     "name": "stdout",
     "output_type": "stream",
     "text": [
      "4\n",
      "5\n",
      "5\n",
      "8\n",
      "8\n"
     ]
    }
   ],
   "source": [
    "class KthLargest:\n",
    "    def __init__(self, k: int, nums: list[int]):\n",
    "        self.k = k\n",
    "        self.nums = sorted(nums, reverse=True)\n",
    "\n",
    "    def add(self, val: int) -> int:\n",
    "        self.nums.append(val)\n",
    "        self.nums.sort(reverse=True)\n",
    "        return self.nums[self.k - 1]\n",
    "\n",
    "\n",
    "obj = KthLargest(3, [4, 5, 8, 2])\n",
    "print(obj.add(3))\n",
    "print(obj.add(5))\n",
    "print(obj.add(10))\n",
    "print(obj.add(9))\n",
    "print(obj.add(4))"
   ]
  },
  {
   "cell_type": "markdown",
   "metadata": {},
   "source": [
    "#### Heap - O(log k), O(k); O(n log k), O(k)"
   ]
  },
  {
   "cell_type": "code",
   "execution_count": 45,
   "metadata": {},
   "outputs": [
    {
     "name": "stdout",
     "output_type": "stream",
     "text": [
      "4\n",
      "5\n",
      "5\n",
      "8\n",
      "8\n"
     ]
    }
   ],
   "source": [
    "import heapq\n",
    "\n",
    "\n",
    "class KthLargest:\n",
    "\n",
    "    def __init__(self, k: int, nums: list[int]):\n",
    "        self.k = k\n",
    "        self.min_heap: list[int] = []\n",
    "        for num in nums:\n",
    "            self.add(num)\n",
    "\n",
    "    def add(self, val: int) -> int:\n",
    "        heapq.heappush(self.min_heap, val)\n",
    "        if len(self.min_heap) > self.k:\n",
    "            heapq.heappop(self.min_heap)\n",
    "        return self.min_heap[0]\n",
    "\n",
    "\n",
    "obj = KthLargest(3, [4, 5, 8, 2])\n",
    "print(obj.add(3))\n",
    "print(obj.add(5))\n",
    "print(obj.add(10))\n",
    "print(obj.add(9))\n",
    "print(obj.add(4))"
   ]
  },
  {
   "cell_type": "markdown",
   "metadata": {},
   "source": [
    "### 1046. Last Stone Weight\n",
    "\n",
    "You are given an array of integers `stones` where `stones[i]` is the\n",
    "weight of the `i`<sup>`th`</sup> stone.\n",
    "\n",
    "We are playing a game with the stones. On each turn, we choose the\n",
    "**heaviest two stones** and smash them together. Suppose the heaviest\n",
    "two stones have weights `x` and `y` with `x <= y`. The result of this\n",
    "smash is:\n",
    "\n",
    "- If `x == y`, both stones are destroyed, and\n",
    "- If `x != y`, the stone of weight `x` is destroyed, and the stone of\n",
    "    weight `y` has new weight `y - x`.\n",
    "\n",
    "At the end of the game, there is **at most one** stone left.\n",
    "\n",
    "Return *the weight of the last remaining stone*. If there are no stones\n",
    "left, return `0`.\n",
    "\n",
    "**Example 1:**\n",
    "\n",
    "    Input: stones = [2,7,4,1,8,1]\n",
    "    Output: 1\n",
    "    Explanation: \n",
    "    We combine 7 and 8 to get 1 so the array converts to [2,4,1,1,1] then,\n",
    "    we combine 2 and 4 to get 2 so the array converts to [2,1,1,1] then,\n",
    "    we combine 2 and 1 to get 1 so the array converts to [1,1,1] then,\n",
    "    we combine 1 and 1 to get 0 so the array converts to [1] then that's the value of the last stone.\n",
    "\n",
    "**Example 2:**\n",
    "\n",
    "    Input: stones = [1]\n",
    "    Output: 1\n",
    "\n",
    "**Constraints:**\n",
    "\n",
    "- `1 <= stones.length <= 30`\n",
    "- `1 <= stones[i] <= 1000`"
   ]
  },
  {
   "cell_type": "markdown",
   "metadata": {},
   "source": [
    "#### Sorting - O(n^2), O(1)"
   ]
  },
  {
   "cell_type": "code",
   "execution_count": 46,
   "metadata": {},
   "outputs": [
    {
     "name": "stdout",
     "output_type": "stream",
     "text": [
      "1\n",
      "1\n"
     ]
    }
   ],
   "source": [
    "class Solution:\n",
    "    def lastStoneWeight(self, stones: list[int]) -> int:\n",
    "        while len(stones) > 1:\n",
    "            stones.sort(reverse=True)\n",
    "            x = stones.pop(0)\n",
    "            y = stones.pop(0)\n",
    "            if x != y:\n",
    "                stones.append(x - y)\n",
    "\n",
    "        return stones[0] if stones else 0\n",
    "\n",
    "\n",
    "solution = Solution()\n",
    "print(solution.lastStoneWeight([2, 7, 4, 1, 8, 1]))\n",
    "print(solution.lastStoneWeight([1]))"
   ]
  },
  {
   "cell_type": "markdown",
   "metadata": {},
   "source": [
    "#### Heap - O(n log n), O(n)"
   ]
  },
  {
   "cell_type": "code",
   "execution_count": 47,
   "metadata": {},
   "outputs": [
    {
     "name": "stdout",
     "output_type": "stream",
     "text": [
      "1\n",
      "1\n"
     ]
    }
   ],
   "source": [
    "import heapq\n",
    "\n",
    "\n",
    "class Solution:\n",
    "    def lastStoneWeight(self, stones: list[int]) -> int:\n",
    "        stones = [-stone for stone in stones]\n",
    "        heapq.heapify(stones)\n",
    "\n",
    "        while len(stones) > 1:\n",
    "            x = heapq.heappop(stones)\n",
    "            y = heapq.heappop(stones)\n",
    "\n",
    "            if x != y:\n",
    "                heapq.heappush(stones, x - y)\n",
    "\n",
    "        return -stones[0] if stones else 0\n",
    "\n",
    "\n",
    "solution = Solution()\n",
    "print(solution.lastStoneWeight([2, 7, 4, 1, 8, 1]))\n",
    "print(solution.lastStoneWeight([1]))\n"
   ]
  },
  {
   "cell_type": "markdown",
   "metadata": {},
   "source": [
    "## Medium"
   ]
  },
  {
   "cell_type": "markdown",
   "metadata": {},
   "source": [
    "### 49. Group Anagrams\n",
    "\n",
    "Given an array of strings `strs`, group **the anagrams** together. You\n",
    "can return the answer in **any order**.\n",
    "\n",
    "An **Anagram** is a word or phrase formed by rearranging the letters of\n",
    "a different word or phrase, typically using all the original letters\n",
    "exactly once.\n",
    "\n",
    "**Example 1:**\n",
    "\n",
    "    Input: strs = [\"eat\",\"tea\",\"tan\",\"ate\",\"nat\",\"bat\"]\n",
    "    Output: [[\"bat\"],[\"nat\",\"tan\"],[\"ate\",\"eat\",\"tea\"]]\n",
    "\n",
    "**Example 2:**\n",
    "\n",
    "    Input: strs = [\"\"]\n",
    "    Output: [[\"\"]]\n",
    "\n",
    "**Example 3:**\n",
    "\n",
    "    Input: strs = [\"a\"]\n",
    "    Output: [[\"a\"]]\n",
    "\n",
    "**Constraints:**\n",
    "\n",
    "- `1 <= strs.length <= 10`<sup>`4`</sup>\n",
    "- `0 <= strs[i].length <= 100`\n",
    "- `strs[i]` consists of lowercase English letters."
   ]
  },
  {
   "cell_type": "markdown",
   "metadata": {},
   "source": [
    "#### Brute Force - O(n^2 * m), O(n)"
   ]
  },
  {
   "cell_type": "code",
   "execution_count": 48,
   "metadata": {},
   "outputs": [
    {
     "name": "stdout",
     "output_type": "stream",
     "text": [
      "[['eat', 'tea', 'ate'], ['tan', 'nat'], ['bat']]\n",
      "[['']]\n",
      "[['a']]\n"
     ]
    }
   ],
   "source": [
    "class Solution:\n",
    "    def groupAnagrams(self, strs: list[str]) -> list[list[str]]:\n",
    "        def is_anagram(s: str, t: str) -> bool:\n",
    "            if len(s) != len(t):\n",
    "                return False\n",
    "\n",
    "            for char in s:\n",
    "                is_matched = False\n",
    "\n",
    "                for i, c in enumerate(t):\n",
    "                    if c == char:\n",
    "                        t = t[:i] + t[i + 1 :]\n",
    "                        is_matched = True\n",
    "                        break\n",
    "\n",
    "                if not is_matched:\n",
    "                    return False\n",
    "\n",
    "            return True\n",
    "\n",
    "        anagram_groups: list[list[str]] = []\n",
    "        used = [False] * len(strs)\n",
    "\n",
    "        for i, str_i in enumerate(strs):\n",
    "            if not used[i]:\n",
    "                group = [str_i]\n",
    "                used[i] = True\n",
    "                for j, str_j in enumerate(strs[i + 1 :], start=i + 1):\n",
    "                    if not used[j] and is_anagram(str_i, str_j):\n",
    "                        group.append(str_j)\n",
    "                        used[j] = True\n",
    "                anagram_groups.append(group)\n",
    "\n",
    "        return anagram_groups\n",
    "\n",
    "\n",
    "solution = Solution()\n",
    "print(solution.groupAnagrams(strs=[\"eat\", \"tea\", \"tan\", \"ate\", \"nat\", \"bat\"]))\n",
    "print(solution.groupAnagrams(strs=[\"\"]))\n",
    "print(solution.groupAnagrams(strs=[\"a\"]))"
   ]
  },
  {
   "cell_type": "markdown",
   "metadata": {},
   "source": [
    "#### Arrays & Hashing - O(n * m * log(m)), O(n * m)"
   ]
  },
  {
   "cell_type": "code",
   "execution_count": 49,
   "metadata": {},
   "outputs": [
    {
     "name": "stdout",
     "output_type": "stream",
     "text": [
      "[['eat', 'tea', 'ate'], ['tan', 'nat'], ['bat']]\n",
      "[['']]\n",
      "[['a']]\n"
     ]
    }
   ],
   "source": [
    "from collections import defaultdict\n",
    "\n",
    "\n",
    "class Solution:\n",
    "    def groupAnagrams(self, strs: list[str]) -> list[list[str]]:\n",
    "        anagrams: dict[str, list[str]] = defaultdict(list)\n",
    "\n",
    "        for s in strs:\n",
    "            sorted_str = \"\".join(sorted(s))\n",
    "            anagrams[sorted_str].append(s)\n",
    "\n",
    "        return list(anagrams.values())\n",
    "\n",
    "\n",
    "solution = Solution()\n",
    "print(solution.groupAnagrams(strs=[\"eat\", \"tea\", \"tan\", \"ate\", \"nat\", \"bat\"]))\n",
    "print(solution.groupAnagrams(strs=[\"\"]))\n",
    "print(solution.groupAnagrams(strs=[\"a\"]))"
   ]
  },
  {
   "cell_type": "markdown",
   "metadata": {},
   "source": [
    "#### Using Character Count as Key - O(n * m), O(n * m)"
   ]
  },
  {
   "cell_type": "code",
   "execution_count": 50,
   "metadata": {},
   "outputs": [
    {
     "name": "stdout",
     "output_type": "stream",
     "text": [
      "[['eat', 'tea', 'ate'], ['tan', 'nat'], ['bat']]\n",
      "[['']]\n",
      "[['a']]\n"
     ]
    }
   ],
   "source": [
    "from collections import defaultdict\n",
    "\n",
    "\n",
    "class Solution:\n",
    "    def groupAnagrams(self, strs: list[str]) -> list[list[str]]:\n",
    "        anagrams: dict[tuple[int, ...], list[str]] = defaultdict(list)\n",
    "\n",
    "        for s in strs:\n",
    "            count = [0] * 26\n",
    "            for char in s:\n",
    "                count[ord(char) - ord(\"a\")] += 1\n",
    "            key = tuple(count)\n",
    "            anagrams[key].append(s)\n",
    "\n",
    "        return list(anagrams.values())\n",
    "\n",
    "\n",
    "solution = Solution()\n",
    "print(solution.groupAnagrams(strs=[\"eat\", \"tea\", \"tan\", \"ate\", \"nat\", \"bat\"]))\n",
    "print(solution.groupAnagrams(strs=[\"\"]))\n",
    "print(solution.groupAnagrams(strs=[\"a\"]))"
   ]
  },
  {
   "cell_type": "markdown",
   "metadata": {},
   "source": [
    "#### Using Prime Numbers - O(n * m), O(n * m)"
   ]
  },
  {
   "cell_type": "code",
   "execution_count": 51,
   "metadata": {},
   "outputs": [
    {
     "name": "stdout",
     "output_type": "stream",
     "text": [
      "[['eat', 'tea', 'ate'], ['tan', 'nat'], ['bat']]\n",
      "[['']]\n",
      "[['a']]\n"
     ]
    }
   ],
   "source": [
    "class Solution:\n",
    "    def groupAnagrams(self, strs: list[str]) -> list[list[str]]:\n",
    "        prime_numbers = {\n",
    "            \"a\": 2,\n",
    "            \"b\": 3,\n",
    "            \"c\": 5,\n",
    "            \"d\": 7,\n",
    "            \"e\": 11,\n",
    "            \"f\": 13,\n",
    "            \"g\": 17,\n",
    "            \"h\": 19,\n",
    "            \"i\": 23,\n",
    "            \"j\": 29,\n",
    "            \"k\": 31,\n",
    "            \"l\": 37,\n",
    "            \"m\": 41,\n",
    "            \"n\": 43,\n",
    "            \"o\": 47,\n",
    "            \"p\": 53,\n",
    "            \"q\": 59,\n",
    "            \"r\": 61,\n",
    "            \"s\": 67,\n",
    "            \"t\": 71,\n",
    "            \"u\": 73,\n",
    "            \"v\": 79,\n",
    "            \"w\": 83,\n",
    "            \"x\": 89,\n",
    "            \"y\": 97,\n",
    "            \"z\": 101,\n",
    "        }\n",
    "\n",
    "        anagrams: dict[int, list[str]] = {}\n",
    "\n",
    "        for word in strs:\n",
    "            product = 1\n",
    "            for char in word:\n",
    "                product *= prime_numbers[char]\n",
    "\n",
    "            if product in anagrams:\n",
    "                anagrams[product].append(word)\n",
    "            else:\n",
    "                anagrams[product] = [word]\n",
    "\n",
    "        return list(anagrams.values())\n",
    "\n",
    "\n",
    "solution = Solution()\n",
    "print(solution.groupAnagrams(strs=[\"eat\", \"tea\", \"tan\", \"ate\", \"nat\", \"bat\"]))\n",
    "print(solution.groupAnagrams(strs=[\"\"]))\n",
    "print(solution.groupAnagrams(strs=[\"a\"]))"
   ]
  },
  {
   "cell_type": "markdown",
   "metadata": {},
   "source": [
    "### 167. Two Sum II - Input Array Is Sorted\n",
    "\n",
    "Given a **1-indexed** array of integers `numbers` that is already\n",
    "***sorted in non-decreasing order***, find two numbers such that they\n",
    "add up to a specific `target` number. Let these two numbers be\n",
    "`numbers[index`<sub>`1`</sub>`]` and `numbers[index`<sub>`2`</sub>`]`\n",
    "where\n",
    "`1 <= index`<sub>`1`</sub>`< index`<sub>`2`</sub>`<= numbers.length`.\n",
    "\n",
    "Return *the indices of the two numbers,* `index`<sub>`1`</sub> *and*\n",
    "`index`<sub>`2`</sub>*, **added by one** as an integer array*\n",
    "`[index`<sub>`1`</sub>`, index`<sub>`2`</sub>`]` *of length 2.*\n",
    "\n",
    "The tests are generated such that there is **exactly one solution**. You\n",
    "**may not** use the same element twice.\n",
    "\n",
    "Your solution must use only constant extra space.\n",
    "\n",
    "**Example 1:**\n",
    "\n",
    "    Input: numbers = [2,7,11,15], target = 9\n",
    "    Output: [1,2]\n",
    "    Explanation: The sum of 2 and 7 is 9. Therefore, index1 = 1, index2 = 2. We return [1, 2].\n",
    "\n",
    "**Example 2:**\n",
    "\n",
    "    Input: numbers = [2,3,4], target = 6\n",
    "    Output: [1,3]\n",
    "    Explanation: The sum of 2 and 4 is 6. Therefore index1 = 1, index2 = 3. We return [1, 3].\n",
    "\n",
    "**Example 3:**\n",
    "\n",
    "    Input: numbers = [-1,0], target = -1\n",
    "    Output: [1,2]\n",
    "    Explanation: The sum of -1 and 0 is -1. Therefore index1 = 1, index2 = 2. We return [1, 2].\n",
    "\n",
    "**Constraints:**\n",
    "\n",
    "- `2 <= numbers.length <= 3 * 10`<sup>`4`</sup>\n",
    "- `-1000 <= numbers[i] <= 1000`\n",
    "- `numbers` is sorted in **non-decreasing order**.\n",
    "- `-1000 <= target <= 1000`\n",
    "- The tests are generated such that there is **exactly one solution**."
   ]
  },
  {
   "cell_type": "markdown",
   "metadata": {},
   "source": [
    "#### Brute Force - O(n^2), O(1)"
   ]
  },
  {
   "cell_type": "code",
   "execution_count": 52,
   "metadata": {},
   "outputs": [
    {
     "name": "stdout",
     "output_type": "stream",
     "text": [
      "[1, 2]\n",
      "[1, 3]\n",
      "[1, 2]\n"
     ]
    }
   ],
   "source": [
    "class Solution:\n",
    "    def twoSum(self, numbers: list[int], target: int) -> list[int]:\n",
    "        n = len(numbers)\n",
    "\n",
    "        for i in range(n):\n",
    "            for j in range(i + 1, n):\n",
    "                if numbers[i] + numbers[j] == target:\n",
    "                    return [i + 1, j + 1]\n",
    "\n",
    "        return []\n",
    "\n",
    "\n",
    "solution = Solution()\n",
    "print(solution.twoSum(numbers=[2, 7, 11, 15], target=9))\n",
    "print(solution.twoSum(numbers=[2, 3, 4], target=6))\n",
    "print(solution.twoSum(numbers=[-1, 0], target=-1))"
   ]
  },
  {
   "cell_type": "markdown",
   "metadata": {},
   "source": [
    "#### Arrays & Hashing - O(n), O(n)"
   ]
  },
  {
   "cell_type": "code",
   "execution_count": 53,
   "metadata": {},
   "outputs": [
    {
     "name": "stdout",
     "output_type": "stream",
     "text": [
      "[1, 2]\n",
      "[1, 3]\n",
      "[1, 2]\n"
     ]
    }
   ],
   "source": [
    "class Solution:\n",
    "    def twoSum(self, numbers: list[int], target: int) -> list[int]:\n",
    "        numbers_index: dict[int, int] = {}\n",
    "\n",
    "        for index, num in enumerate(numbers):\n",
    "            complement = target - num\n",
    "\n",
    "            if complement in numbers_index:\n",
    "                return [numbers_index[complement] + 1, index + 1]\n",
    "\n",
    "            numbers_index[num] = index\n",
    "\n",
    "        return []\n",
    "\n",
    "\n",
    "solution = Solution()\n",
    "print(solution.twoSum(numbers=[2, 7, 11, 15], target=9))\n",
    "print(solution.twoSum(numbers=[2, 3, 4], target=6))\n",
    "print(solution.twoSum(numbers=[-1, 0], target=-1))"
   ]
  },
  {
   "cell_type": "markdown",
   "metadata": {},
   "source": [
    "#### Two Pointers - O(n), O(1)"
   ]
  },
  {
   "cell_type": "code",
   "execution_count": 54,
   "metadata": {},
   "outputs": [
    {
     "name": "stdout",
     "output_type": "stream",
     "text": [
      "[1, 2]\n",
      "[1, 3]\n",
      "[1, 2]\n"
     ]
    }
   ],
   "source": [
    "class Solution:\n",
    "    def twoSum(self, numbers: list[int], target: int) -> list[int]:\n",
    "        left, right = 0, len(numbers) - 1\n",
    "\n",
    "        while left < right:\n",
    "            current_sum = numbers[left] + numbers[right]\n",
    "\n",
    "            if current_sum == target:\n",
    "                return [left + 1, right + 1]\n",
    "\n",
    "            if current_sum < target:\n",
    "                left += 1\n",
    "            else:\n",
    "                right -= 1\n",
    "\n",
    "        return []\n",
    "\n",
    "\n",
    "solution = Solution()\n",
    "print(solution.twoSum(numbers=[2, 7, 11, 15], target=9))\n",
    "print(solution.twoSum(numbers=[2, 3, 4], target=6))\n",
    "print(solution.twoSum(numbers=[-1, 0], target=-1))"
   ]
  },
  {
   "cell_type": "markdown",
   "metadata": {},
   "source": [
    "### 15. 3Sum\n",
    "\n",
    "Given an integer array nums, return all the triplets\n",
    "`[nums[i], nums[j], nums[k]]` such that `i != j`, `i != k`, and\n",
    "`j != k`, and `nums[i] + nums[j] + nums[k] == 0`.\n",
    "\n",
    "Notice that the solution set must not contain duplicate triplets.\n",
    "\n",
    "**Example 1:**\n",
    "\n",
    "    Input: nums = [-1,0,1,2,-1,-4]\n",
    "    Output: [[-1,-1,2],[-1,0,1]]\n",
    "    Explanation: \n",
    "    nums[0] + nums[1] + nums[2] = (-1) + 0 + 1 = 0.\n",
    "    nums[1] + nums[2] + nums[4] = 0 + 1 + (-1) = 0.\n",
    "    nums[0] + nums[3] + nums[4] = (-1) + 2 + (-1) = 0.\n",
    "    The distinct triplets are [-1,0,1] and [-1,-1,2].\n",
    "    Notice that the order of the output and the order of the triplets does not matter.\n",
    "\n",
    "**Example 2:**\n",
    "\n",
    "    Input: nums = [0,1,1]\n",
    "    Output: []\n",
    "    Explanation: The only possible triplet does not sum up to 0.\n",
    "\n",
    "**Example 3:**\n",
    "\n",
    "    Input: nums = [0,0,0]\n",
    "    Output: [[0,0,0]]\n",
    "    Explanation: The only possible triplet sums up to 0.\n",
    "\n",
    "**Constraints:**\n",
    "\n",
    "- `3 <= nums.length <= 3000`\n",
    "- `-10`<sup>`5`</sup>`<= nums[i] <= 10`<sup>`5`</sup>"
   ]
  },
  {
   "cell_type": "markdown",
   "metadata": {},
   "source": [
    "#### Brute Force - O(n^3), O(n)"
   ]
  },
  {
   "cell_type": "code",
   "execution_count": 55,
   "metadata": {},
   "outputs": [
    {
     "name": "stdout",
     "output_type": "stream",
     "text": [
      "[[-1, 0, 1], [-1, -1, 2]]\n",
      "[]\n",
      "[[0, 0, 0]]\n"
     ]
    }
   ],
   "source": [
    "class Solution:\n",
    "    def threeSum(self, nums: list[int]) -> list[list[int]]:\n",
    "        n = len(nums)\n",
    "        triplets: list[list[int]] = []\n",
    "\n",
    "        for i in range(n):\n",
    "            for j in range(i + 1, n):\n",
    "                for k in range(j + 1, n):\n",
    "                    if nums[i] + nums[j] + nums[k] == 0:\n",
    "                        triplet = sorted([nums[i], nums[j], nums[k]])\n",
    "                        if triplet not in triplets:\n",
    "                            triplets.append(triplet)\n",
    "\n",
    "        return triplets\n",
    "\n",
    "\n",
    "solution = Solution()\n",
    "print(solution.threeSum(nums=[-1, 0, 1, 2, -1, -4]))\n",
    "print(solution.threeSum(nums=[0, 1, 1]))\n",
    "print(solution.threeSum(nums=[0, 0, 0]))"
   ]
  },
  {
   "cell_type": "markdown",
   "metadata": {},
   "source": [
    "### 39. Combination Sum\n",
    "\n",
    "Given an array of **distinct** integers `candidates` and a target\n",
    "integer `target`, return *a list of all **unique combinations** of*\n",
    "`candidates` *where the chosen numbers sum to* `target`*.* You may\n",
    "return the combinations in **any order**.\n",
    "\n",
    "The **same** number may be chosen from `candidates` an **unlimited\n",
    "number of times**. Two combinations are unique if the frequency of at least one of the chosen numbers is different.\n",
    "\n",
    "The test cases are generated such that the number of unique combinations\n",
    "that sum up to `target` is less than `150` combinations for the given\n",
    "input.\n",
    "\n",
    "**Example 1:**\n",
    "\n",
    "    Input: candidates = [2,3,6,7], target = 7\n",
    "    Output: [[2,2,3],[7]]\n",
    "    Explanation:\n",
    "    2 and 3 are candidates, and 2 + 2 + 3 = 7. Note that 2 can be used multiple times.\n",
    "    7 is a candidate, and 7 = 7.\n",
    "    These are the only two combinations.\n",
    "\n",
    "**Example 2:**\n",
    "\n",
    "    Input: candidates = [2,3,5], target = 8\n",
    "    Output: [[2,2,2,2],[2,3,3],[3,5]]\n",
    "\n",
    "**Example 3:**\n",
    "\n",
    "    Input: candidates = [2], target = 1\n",
    "    Output: []\n",
    "\n",
    "**Constraints:**\n",
    "\n",
    "- `1 <= candidates.length <= 30`\n",
    "- `2 <= candidates[i] <= 40`\n",
    "- All elements of `candidates` are **distinct**.\n",
    "- `1 <= target <= 40`"
   ]
  },
  {
   "cell_type": "markdown",
   "metadata": {},
   "source": [
    "#### Backtracking - O(n^2), O(n)"
   ]
  },
  {
   "cell_type": "code",
   "execution_count": 56,
   "metadata": {},
   "outputs": [
    {
     "name": "stdout",
     "output_type": "stream",
     "text": [
      "[[2, 2, 3], [7]]\n",
      "[[2, 2, 2, 2], [2, 3, 3], [3, 5]]\n",
      "[]\n"
     ]
    }
   ],
   "source": [
    "class Solution:\n",
    "    def combinationSum(self, candidates: list[int], target: int) -> list[list[int]]:\n",
    "        result: list[list[int]] = []\n",
    "\n",
    "        def backtrack(start: int, current: list[int], total: int) -> None:\n",
    "            if total == target:\n",
    "                result.append(current[:])\n",
    "                return\n",
    "            if total > target:\n",
    "                return\n",
    "\n",
    "            for i in range(start, len(candidates)):\n",
    "                current.append(candidates[i])\n",
    "                backtrack(i, current, total + candidates[i])\n",
    "                current.pop()\n",
    "\n",
    "        backtrack(0, [], 0)\n",
    "        return result\n",
    "\n",
    "\n",
    "solution = Solution()\n",
    "print(solution.combinationSum([2, 3, 6, 7], 7))\n",
    "print(solution.combinationSum([2, 3, 5], 8))\n",
    "print(solution.combinationSum([2], 1))"
   ]
  },
  {
   "cell_type": "markdown",
   "metadata": {},
   "source": [
    "### 143. Reorder List\n",
    "\n",
    "You are given the head of a singly linked-list. The list can be\n",
    "represented as:\n",
    "\n",
    "    L0 → L1 → … → Ln - 1 → Ln\n",
    "\n",
    "*Reorder the list to be on the following form:*\n",
    "\n",
    "    L0 → Ln → L1 → Ln - 1 → L2 → Ln - 2 → …\n",
    "\n",
    "You may not modify the values in the list's nodes. Only nodes themselves\n",
    "may be changed.\n",
    "\n",
    "**Example 1:**\n",
    "\n",
    "<img\n",
    "src=\"https://assets.leetcode.com/uploads/2021/03/04/reorder1linked-list.jpg\"\n",
    "style=\"width: 422px; height: 222px;\" />\n",
    "\n",
    "    Input: head = [1,2,3,4]\n",
    "    Output: [1,4,2,3]\n",
    "\n",
    "**Example 2:**\n",
    "\n",
    "<img\n",
    "src=\"https://assets.leetcode.com/uploads/2021/03/09/reorder2-linked-list.jpg\"\n",
    "style=\"width: 542px; height: 222px;\" />\n",
    "\n",
    "    Input: head = [1,2,3,4,5]\n",
    "    Output: [1,5,2,4,3]\n",
    "\n",
    "**Constraints:**\n",
    "\n",
    "- The number of nodes in the list is in the range\n",
    "    `[1, 5 * 10`<sup>`4`</sup>`]`.\n",
    "- `1 <= Node.val <= 1000`"
   ]
  },
  {
   "cell_type": "markdown",
   "metadata": {},
   "source": [
    "#### Two Pointers - O(n), O(1)"
   ]
  },
  {
   "cell_type": "code",
   "execution_count": 57,
   "metadata": {},
   "outputs": [
    {
     "name": "stdout",
     "output_type": "stream",
     "text": [
      "[1, 4, 2, 3]\n",
      "[1, 5, 2, 4, 3]\n"
     ]
    }
   ],
   "source": [
    "class Solution:\n",
    "    def reorderList(self, head: Optional[ListNode]) -> None:\n",
    "        \"\"\"\n",
    "        Do not return anything, modify head in-place instead.\n",
    "        \"\"\"\n",
    "\n",
    "        # Base case: If the list is empty or has only one node, it cannot be reordered\n",
    "        if not head or not head.next:\n",
    "            return\n",
    "\n",
    "        # Use two pointers to find the middle of the list\n",
    "        slow: Optional[ListNode] = head\n",
    "        fast: Optional[ListNode] = head.next\n",
    "        while slow and slow.next and fast and fast.next:\n",
    "            slow = slow.next\n",
    "            fast = fast.next.next\n",
    "\n",
    "        # Reverse the second half of the list starting from slow.next\n",
    "        prev: Optional[ListNode] = None\n",
    "        curr: Optional[ListNode] = slow.next if slow else None\n",
    "        if slow:\n",
    "            slow.next = None\n",
    "        while curr:\n",
    "\n",
    "            # Store the next node\n",
    "            next_temp = curr.next\n",
    "\n",
    "            # Reverse the link\n",
    "            curr.next = prev\n",
    "\n",
    "            # Move prev to the current node and the current node to the next node\n",
    "            prev, curr = curr, next_temp\n",
    "\n",
    "        # Merge the two halves together\n",
    "        first: Optional[ListNode] = head\n",
    "        second: Optional[ListNode] = prev\n",
    "        while first and second:\n",
    "\n",
    "            # Store the next nodes\n",
    "            temp1, temp2 = first.next, second.next\n",
    "\n",
    "            # Reorder nodes\n",
    "            first.next, second.next = second, temp1\n",
    "\n",
    "            # Move to the next nodes\n",
    "            first, second = temp1, temp2\n",
    "\n",
    "\n",
    "solution = Solution()\n",
    "head = list_to_linked_list([1, 2, 3, 4])\n",
    "solution.reorderList(head)\n",
    "print(linked_list_to_list(head))\n",
    "head = list_to_linked_list([1, 2, 3, 4, 5])\n",
    "solution.reorderList(head)\n",
    "print(linked_list_to_list(head))"
   ]
  },
  {
   "cell_type": "markdown",
   "metadata": {},
   "source": [
    "## Hard"
   ]
  },
  {
   "cell_type": "markdown",
   "metadata": {},
   "source": [
    "### 778. Swim in Rising Water\n",
    "\n",
    "You are given an `n x n` integer matrix `grid` where each value\n",
    "`grid[i][j]` represents the elevation at that point `(i, j)`.\n",
    "\n",
    "The rain starts to fall. At time `t`, the depth of the water everywhere\n",
    "is `t`. You can swim from a square to another 4-directionally adjacent\n",
    "square if and only if the elevation of both squares individually are at\n",
    "most `t`. You can swim infinite distances in zero time. Of course, you\n",
    "must stay within the boundaries of the grid during your swim.\n",
    "\n",
    "Return *the least time until you can reach the bottom right square*\n",
    "`(n - 1, n - 1)` *if you start at the top left square* `(0, 0)`.\n",
    "\n",
    "**Example 1:**\n",
    "\n",
    "<img src=\"https://assets.leetcode.com/uploads/2021/06/29/swim1-grid.jpg\"\n",
    "style=\"width: 164px; height: 165px;\" />\n",
    "\n",
    "    Input: grid = [[0,2],[1,3]]\n",
    "    Output: 3\n",
    "    Explanation:\n",
    "    At time 0, you are in grid location (0, 0).\n",
    "    You cannot go anywhere else because 4-directionally adjacent neighbors have a higher elevation than t = 0.\n",
    "    You cannot reach point (1, 1) until time 3.\n",
    "    When the depth of water is 3, we can swim anywhere inside the grid.\n",
    "\n",
    "**Example 2:**\n",
    "\n",
    "<img\n",
    "src=\"https://assets.leetcode.com/uploads/2021/06/29/swim2-grid-1.jpg\"\n",
    "style=\"width: 404px; height: 405px;\" />\n",
    "\n",
    "    Input: grid = [[0,1,2,3,4],[24,23,22,21,5],[12,13,14,15,16],[11,17,18,19,20],[10,9,8,7,6]]\n",
    "    Output: 16\n",
    "    Explanation: The final route is shown.\n",
    "    We need to wait until time 16 so that (0, 0) and (4, 4) are connected.\n",
    "\n",
    "**Constraints:**\n",
    "\n",
    "- `n == grid.length`\n",
    "- `n == grid[i].length`\n",
    "- `1 <= n <= 50`\n",
    "- `0 <= grid[i][j] < n`<sup>`2`</sup>\n",
    "- Each value `grid[i][j]` is **unique**."
   ]
  },
  {
   "cell_type": "markdown",
   "metadata": {},
   "source": [
    "#### Binary Search - O(n^2 * log(n^2)), O(n^2)"
   ]
  },
  {
   "cell_type": "code",
   "execution_count": 58,
   "metadata": {},
   "outputs": [],
   "source": [
    "from collections import deque\n",
    "\n",
    "\n",
    "class Solution:\n",
    "    def swimInWater(self, grid: list[list[int]]) -> int:\n",
    "        n = len(grid)\n",
    "\n",
    "        def can_swim(t: int) -> bool:\n",
    "            directions = [(0, 1), (1, 0), (0, -1), (-1, 0)]\n",
    "            queue: deque[tuple[int, int]] = deque([(0, 0)])\n",
    "            visited: set[tuple[int, int]] = set()\n",
    "            visited.add((0, 0))\n",
    "\n",
    "            while queue:\n",
    "                x, y = queue.popleft()\n",
    "                if x == n - 1 and y == n - 1:\n",
    "                    return True\n",
    "\n",
    "                for dx, dy in directions:\n",
    "                    nx, ny = x + dx, y + dy\n",
    "                    if (\n",
    "                        0 <= nx < n\n",
    "                        and 0 <= ny < n\n",
    "                        and (nx, ny) not in visited\n",
    "                        and grid[nx][ny] <= t\n",
    "                    ):\n",
    "                        visited.add((nx, ny))\n",
    "                        queue.append((nx, ny))\n",
    "\n",
    "            return False\n",
    "\n",
    "        low, high = grid[0][0], max(max(row) for row in grid)\n",
    "\n",
    "        while low < high:\n",
    "            mid = (low + high) // 2\n",
    "            if can_swim(mid):\n",
    "                high = mid\n",
    "            else:\n",
    "                low = mid + 1\n",
    "\n",
    "        return low"
   ]
  }
 ],
 "metadata": {
  "kernelspec": {
   "display_name": "Python 3",
   "language": "python",
   "name": "python3"
  },
  "language_info": {
   "codemirror_mode": {
    "name": "ipython",
    "version": 3
   },
   "file_extension": ".py",
   "mimetype": "text/x-python",
   "name": "python",
   "nbconvert_exporter": "python",
   "pygments_lexer": "ipython3",
   "version": "3.12.3"
  }
 },
 "nbformat": 4,
 "nbformat_minor": 2
}
